{
 "cells": [
  {
   "cell_type": "code",
   "execution_count": 1,
   "id": "27f4f930-8a26-4b94-a3e7-6754b59c355b",
   "metadata": {},
   "outputs": [
    {
     "name": "stdout",
     "output_type": "stream",
     "text": [
      "Requirement already satisfied: bitsandbytes==0.41.0 in /opt/conda/lib/python3.10/site-packages (0.41.0)\n",
      "\u001b[33mWARNING: Running pip as the 'root' user can result in broken permissions and conflicting behaviour with the system package manager. It is recommended to use a virtual environment instead: https://pip.pypa.io/warnings/venv\u001b[0m\u001b[33m\n",
      "\u001b[0mRequirement already satisfied: torch==2.0.1 in /opt/conda/lib/python3.10/site-packages (2.0.1)\n",
      "Requirement already satisfied: filelock in /opt/conda/lib/python3.10/site-packages (from torch==2.0.1) (3.9.0)\n",
      "Requirement already satisfied: typing-extensions in /opt/conda/lib/python3.10/site-packages (from torch==2.0.1) (4.5.0)\n",
      "Requirement already satisfied: sympy in /opt/conda/lib/python3.10/site-packages (from torch==2.0.1) (1.12)\n",
      "Requirement already satisfied: networkx in /opt/conda/lib/python3.10/site-packages (from torch==2.0.1) (3.1)\n",
      "Requirement already satisfied: jinja2 in /opt/conda/lib/python3.10/site-packages (from torch==2.0.1) (3.1.2)\n",
      "Requirement already satisfied: MarkupSafe>=2.0 in /opt/conda/lib/python3.10/site-packages (from jinja2->torch==2.0.1) (2.1.1)\n",
      "Requirement already satisfied: mpmath>=0.19 in /opt/conda/lib/python3.10/site-packages (from sympy->torch==2.0.1) (1.3.0)\n",
      "\u001b[33mWARNING: Running pip as the 'root' user can result in broken permissions and conflicting behaviour with the system package manager. It is recommended to use a virtual environment instead: https://pip.pypa.io/warnings/venv\u001b[0m\u001b[33m\n",
      "\u001b[0mRequirement already satisfied: transformers==4.30.0 in /opt/conda/lib/python3.10/site-packages (4.30.0)\n",
      "Requirement already satisfied: packaging>=20.0 in /opt/conda/lib/python3.10/site-packages (from transformers==4.30.0) (23.0)\n",
      "Requirement already satisfied: pyyaml>=5.1 in /opt/conda/lib/python3.10/site-packages (from transformers==4.30.0) (6.0)\n",
      "Requirement already satisfied: tokenizers!=0.11.3,<0.14,>=0.11.1 in /opt/conda/lib/python3.10/site-packages (from transformers==4.30.0) (0.13.3)\n",
      "Requirement already satisfied: filelock in /opt/conda/lib/python3.10/site-packages (from transformers==4.30.0) (3.9.0)\n",
      "Requirement already satisfied: requests in /opt/conda/lib/python3.10/site-packages (from transformers==4.30.0) (2.29.0)\n",
      "Requirement already satisfied: tqdm>=4.27 in /opt/conda/lib/python3.10/site-packages (from transformers==4.30.0) (4.65.0)\n",
      "Requirement already satisfied: huggingface-hub<1.0,>=0.14.1 in /opt/conda/lib/python3.10/site-packages (from transformers==4.30.0) (0.17.1)\n",
      "Requirement already satisfied: safetensors>=0.3.1 in /opt/conda/lib/python3.10/site-packages (from transformers==4.30.0) (0.3.3)\n",
      "Requirement already satisfied: numpy>=1.17 in /opt/conda/lib/python3.10/site-packages (from transformers==4.30.0) (1.24.3)\n",
      "Requirement already satisfied: regex!=2019.12.17 in /opt/conda/lib/python3.10/site-packages (from transformers==4.30.0) (2023.8.8)\n",
      "Requirement already satisfied: fsspec in /opt/conda/lib/python3.10/site-packages (from huggingface-hub<1.0,>=0.14.1->transformers==4.30.0) (2023.9.0)\n",
      "Requirement already satisfied: typing-extensions>=3.7.4.3 in /opt/conda/lib/python3.10/site-packages (from huggingface-hub<1.0,>=0.14.1->transformers==4.30.0) (4.5.0)\n",
      "Requirement already satisfied: charset-normalizer<4,>=2 in /opt/conda/lib/python3.10/site-packages (from requests->transformers==4.30.0) (2.0.4)\n",
      "Requirement already satisfied: idna<4,>=2.5 in /opt/conda/lib/python3.10/site-packages (from requests->transformers==4.30.0) (3.4)\n",
      "Requirement already satisfied: certifi>=2017.4.17 in /opt/conda/lib/python3.10/site-packages (from requests->transformers==4.30.0) (2023.5.7)\n",
      "Requirement already satisfied: urllib3<1.27,>=1.21.1 in /opt/conda/lib/python3.10/site-packages (from requests->transformers==4.30.0) (1.26.15)\n",
      "\u001b[33mWARNING: Running pip as the 'root' user can result in broken permissions and conflicting behaviour with the system package manager. It is recommended to use a virtual environment instead: https://pip.pypa.io/warnings/venv\u001b[0m\u001b[33m\n",
      "\u001b[0mRequirement already satisfied: accelerate==0.21.0 in /opt/conda/lib/python3.10/site-packages (0.21.0)\n",
      "Requirement already satisfied: packaging>=20.0 in /opt/conda/lib/python3.10/site-packages (from accelerate==0.21.0) (23.0)\n",
      "Requirement already satisfied: torch>=1.10.0 in /opt/conda/lib/python3.10/site-packages (from accelerate==0.21.0) (2.0.1)\n",
      "Requirement already satisfied: numpy>=1.17 in /opt/conda/lib/python3.10/site-packages (from accelerate==0.21.0) (1.24.3)\n",
      "Requirement already satisfied: psutil in /opt/conda/lib/python3.10/site-packages (from accelerate==0.21.0) (5.9.0)\n",
      "Requirement already satisfied: pyyaml in /opt/conda/lib/python3.10/site-packages (from accelerate==0.21.0) (6.0)\n",
      "Requirement already satisfied: filelock in /opt/conda/lib/python3.10/site-packages (from torch>=1.10.0->accelerate==0.21.0) (3.9.0)\n",
      "Requirement already satisfied: typing-extensions in /opt/conda/lib/python3.10/site-packages (from torch>=1.10.0->accelerate==0.21.0) (4.5.0)\n",
      "Requirement already satisfied: sympy in /opt/conda/lib/python3.10/site-packages (from torch>=1.10.0->accelerate==0.21.0) (1.12)\n",
      "Requirement already satisfied: networkx in /opt/conda/lib/python3.10/site-packages (from torch>=1.10.0->accelerate==0.21.0) (3.1)\n",
      "Requirement already satisfied: jinja2 in /opt/conda/lib/python3.10/site-packages (from torch>=1.10.0->accelerate==0.21.0) (3.1.2)\n",
      "Requirement already satisfied: MarkupSafe>=2.0 in /opt/conda/lib/python3.10/site-packages (from jinja2->torch>=1.10.0->accelerate==0.21.0) (2.1.1)\n",
      "Requirement already satisfied: mpmath>=0.19 in /opt/conda/lib/python3.10/site-packages (from sympy->torch>=1.10.0->accelerate==0.21.0) (1.3.0)\n",
      "\u001b[33mWARNING: Running pip as the 'root' user can result in broken permissions and conflicting behaviour with the system package manager. It is recommended to use a virtual environment instead: https://pip.pypa.io/warnings/venv\u001b[0m\u001b[33m\n",
      "\u001b[0mRequirement already satisfied: xformers==0.0.20 in /opt/conda/lib/python3.10/site-packages (0.0.20)\n",
      "Requirement already satisfied: numpy in /opt/conda/lib/python3.10/site-packages (from xformers==0.0.20) (1.24.3)\n",
      "Requirement already satisfied: torch==2.0.1 in /opt/conda/lib/python3.10/site-packages (from xformers==0.0.20) (2.0.1)\n",
      "Requirement already satisfied: pyre-extensions==0.0.29 in /opt/conda/lib/python3.10/site-packages (from xformers==0.0.20) (0.0.29)\n",
      "Requirement already satisfied: typing-extensions in /opt/conda/lib/python3.10/site-packages (from pyre-extensions==0.0.29->xformers==0.0.20) (4.5.0)\n",
      "Requirement already satisfied: typing-inspect in /opt/conda/lib/python3.10/site-packages (from pyre-extensions==0.0.29->xformers==0.0.20) (0.9.0)\n",
      "Requirement already satisfied: filelock in /opt/conda/lib/python3.10/site-packages (from torch==2.0.1->xformers==0.0.20) (3.9.0)\n",
      "Requirement already satisfied: sympy in /opt/conda/lib/python3.10/site-packages (from torch==2.0.1->xformers==0.0.20) (1.12)\n",
      "Requirement already satisfied: networkx in /opt/conda/lib/python3.10/site-packages (from torch==2.0.1->xformers==0.0.20) (3.1)\n",
      "Requirement already satisfied: jinja2 in /opt/conda/lib/python3.10/site-packages (from torch==2.0.1->xformers==0.0.20) (3.1.2)\n",
      "Requirement already satisfied: MarkupSafe>=2.0 in /opt/conda/lib/python3.10/site-packages (from jinja2->torch==2.0.1->xformers==0.0.20) (2.1.1)\n",
      "Requirement already satisfied: mpmath>=0.19 in /opt/conda/lib/python3.10/site-packages (from sympy->torch==2.0.1->xformers==0.0.20) (1.3.0)\n",
      "Requirement already satisfied: mypy-extensions>=0.3.0 in /opt/conda/lib/python3.10/site-packages (from typing-inspect->pyre-extensions==0.0.29->xformers==0.0.20) (1.0.0)\n",
      "\u001b[33mWARNING: Running pip as the 'root' user can result in broken permissions and conflicting behaviour with the system package manager. It is recommended to use a virtual environment instead: https://pip.pypa.io/warnings/venv\u001b[0m\u001b[33m\n",
      "\u001b[0mRequirement already satisfied: einops==0.6.1 in /opt/conda/lib/python3.10/site-packages (0.6.1)\n",
      "\u001b[33mWARNING: Running pip as the 'root' user can result in broken permissions and conflicting behaviour with the system package manager. It is recommended to use a virtual environment instead: https://pip.pypa.io/warnings/venv\u001b[0m\u001b[33m\n",
      "\u001b[0mRequirement already satisfied: langchain==0.0.233 in /opt/conda/lib/python3.10/site-packages (0.0.233)\n",
      "Requirement already satisfied: langsmith<0.0.6,>=0.0.5 in /opt/conda/lib/python3.10/site-packages (from langchain==0.0.233) (0.0.5)\n",
      "Requirement already satisfied: numpy<2,>=1 in /opt/conda/lib/python3.10/site-packages (from langchain==0.0.233) (1.24.3)\n",
      "Requirement already satisfied: PyYAML>=5.4.1 in /opt/conda/lib/python3.10/site-packages (from langchain==0.0.233) (6.0)\n",
      "Requirement already satisfied: dataclasses-json<0.6.0,>=0.5.7 in /opt/conda/lib/python3.10/site-packages (from langchain==0.0.233) (0.5.14)\n",
      "Requirement already satisfied: numexpr<3.0.0,>=2.8.4 in /opt/conda/lib/python3.10/site-packages (from langchain==0.0.233) (2.8.6)\n",
      "Requirement already satisfied: pydantic<2,>=1 in /opt/conda/lib/python3.10/site-packages (from langchain==0.0.233) (1.10.12)\n",
      "Requirement already satisfied: tenacity<9.0.0,>=8.1.0 in /opt/conda/lib/python3.10/site-packages (from langchain==0.0.233) (8.2.3)\n",
      "Requirement already satisfied: requests<3,>=2 in /opt/conda/lib/python3.10/site-packages (from langchain==0.0.233) (2.29.0)\n",
      "Requirement already satisfied: async-timeout<5.0.0,>=4.0.0 in /opt/conda/lib/python3.10/site-packages (from langchain==0.0.233) (4.0.3)\n",
      "Requirement already satisfied: openapi-schema-pydantic<2.0,>=1.2 in /opt/conda/lib/python3.10/site-packages (from langchain==0.0.233) (1.2.4)\n",
      "Requirement already satisfied: SQLAlchemy<3,>=1.4 in /opt/conda/lib/python3.10/site-packages (from langchain==0.0.233) (2.0.20)\n",
      "Requirement already satisfied: aiohttp<4.0.0,>=3.8.3 in /opt/conda/lib/python3.10/site-packages (from langchain==0.0.233) (3.8.5)\n",
      "Requirement already satisfied: frozenlist>=1.1.1 in /opt/conda/lib/python3.10/site-packages (from aiohttp<4.0.0,>=3.8.3->langchain==0.0.233) (1.4.0)\n",
      "Requirement already satisfied: yarl<2.0,>=1.0 in /opt/conda/lib/python3.10/site-packages (from aiohttp<4.0.0,>=3.8.3->langchain==0.0.233) (1.9.2)\n",
      "Requirement already satisfied: multidict<7.0,>=4.5 in /opt/conda/lib/python3.10/site-packages (from aiohttp<4.0.0,>=3.8.3->langchain==0.0.233) (6.0.4)\n",
      "Requirement already satisfied: attrs>=17.3.0 in /opt/conda/lib/python3.10/site-packages (from aiohttp<4.0.0,>=3.8.3->langchain==0.0.233) (23.1.0)\n",
      "Requirement already satisfied: aiosignal>=1.1.2 in /opt/conda/lib/python3.10/site-packages (from aiohttp<4.0.0,>=3.8.3->langchain==0.0.233) (1.3.1)\n",
      "Requirement already satisfied: charset-normalizer<4.0,>=2.0 in /opt/conda/lib/python3.10/site-packages (from aiohttp<4.0.0,>=3.8.3->langchain==0.0.233) (2.0.4)\n",
      "Requirement already satisfied: typing-inspect<1,>=0.4.0 in /opt/conda/lib/python3.10/site-packages (from dataclasses-json<0.6.0,>=0.5.7->langchain==0.0.233) (0.9.0)\n",
      "Requirement already satisfied: marshmallow<4.0.0,>=3.18.0 in /opt/conda/lib/python3.10/site-packages (from dataclasses-json<0.6.0,>=0.5.7->langchain==0.0.233) (3.20.1)\n",
      "Requirement already satisfied: typing-extensions>=4.2.0 in /opt/conda/lib/python3.10/site-packages (from pydantic<2,>=1->langchain==0.0.233) (4.5.0)\n",
      "Requirement already satisfied: certifi>=2017.4.17 in /opt/conda/lib/python3.10/site-packages (from requests<3,>=2->langchain==0.0.233) (2023.5.7)\n",
      "Requirement already satisfied: idna<4,>=2.5 in /opt/conda/lib/python3.10/site-packages (from requests<3,>=2->langchain==0.0.233) (3.4)\n",
      "Requirement already satisfied: urllib3<1.27,>=1.21.1 in /opt/conda/lib/python3.10/site-packages (from requests<3,>=2->langchain==0.0.233) (1.26.15)\n",
      "Requirement already satisfied: greenlet!=0.4.17 in /opt/conda/lib/python3.10/site-packages (from SQLAlchemy<3,>=1.4->langchain==0.0.233) (2.0.2)\n",
      "Requirement already satisfied: packaging>=17.0 in /opt/conda/lib/python3.10/site-packages (from marshmallow<4.0.0,>=3.18.0->dataclasses-json<0.6.0,>=0.5.7->langchain==0.0.233) (23.0)\n",
      "Requirement already satisfied: mypy-extensions>=0.3.0 in /opt/conda/lib/python3.10/site-packages (from typing-inspect<1,>=0.4.0->dataclasses-json<0.6.0,>=0.5.7->langchain==0.0.233) (1.0.0)\n",
      "\u001b[33mWARNING: Running pip as the 'root' user can result in broken permissions and conflicting behaviour with the system package manager. It is recommended to use a virtual environment instead: https://pip.pypa.io/warnings/venv\u001b[0m\u001b[33m\n",
      "\u001b[0mRequirement already satisfied: scipy in /opt/conda/lib/python3.10/site-packages (1.11.2)\n",
      "Requirement already satisfied: numpy<1.28.0,>=1.21.6 in /opt/conda/lib/python3.10/site-packages (from scipy) (1.24.3)\n",
      "\u001b[33mWARNING: Running pip as the 'root' user can result in broken permissions and conflicting behaviour with the system package manager. It is recommended to use a virtual environment instead: https://pip.pypa.io/warnings/venv\u001b[0m\u001b[33m\n",
      "\u001b[0m"
     ]
    }
   ],
   "source": [
    "!pip install bitsandbytes==0.41.0\n",
    "!pip install torch==2.0.1 \n",
    "!pip install transformers==4.30.0 \n",
    "!pip install accelerate==0.21.0\n",
    "!pip install xformers==0.0.20\n",
    "!pip install einops==0.6.1 \n",
    "!pip install langchain==0.0.233\n",
    "!pip install scipy"
   ]
  },
  {
   "cell_type": "code",
   "execution_count": 2,
   "id": "f9c1e630-eaa4-432f-bc8c-0ab729638ae0",
   "metadata": {},
   "outputs": [],
   "source": [
    "import re\n",
    "import warnings\n",
    "from typing import List\n",
    " \n",
    "import torch\n",
    "from langchain import PromptTemplate\n",
    "from langchain.chains import ConversationChain\n",
    "from langchain.chains.conversation.memory import ConversationBufferWindowMemory\n",
    "from langchain.llms import HuggingFacePipeline\n",
    "from langchain.schema import BaseOutputParser\n",
    "from transformers import (\n",
    "    AutoModelForCausalLM,\n",
    "    AutoTokenizer,\n",
    "    StoppingCriteria,\n",
    "    StoppingCriteriaList,\n",
    "    pipeline,\n",
    ")\n",
    " \n",
    "warnings.filterwarnings(\"ignore\", category=UserWarning)"
   ]
  },
  {
   "cell_type": "code",
   "execution_count": 3,
   "id": "d22698c6-8b5b-4278-92c1-97b15c4fb9a1",
   "metadata": {},
   "outputs": [
    {
     "data": {
      "application/vnd.jupyter.widget-view+json": {
       "model_id": "08688ae4172b4819ace23f6c7967d2eb",
       "version_major": 2,
       "version_minor": 0
      },
      "text/plain": [
       "Loading checkpoint shards:   0%|          | 0/2 [00:00<?, ?it/s]"
      ]
     },
     "metadata": {},
     "output_type": "display_data"
    }
   ],
   "source": [
    "MODEL_NAME = \"tiiuae/falcon-7b-instruct\"\n",
    "model = AutoModelForCausalLM.from_pretrained(\n",
    "    MODEL_NAME,\n",
    "    trust_remote_code=True,\n",
    "    load_in_4bit=True,\n",
    "    device_map=\"auto\"\n",
    ")\n",
    "model = model.eval()\n",
    "tokenizer = AutoTokenizer.from_pretrained(MODEL_NAME)"
   ]
  },
  {
   "cell_type": "code",
   "execution_count": 4,
   "id": "af35e10b-76d0-4e3a-b247-c3307aa88c40",
   "metadata": {},
   "outputs": [
    {
     "data": {
      "text/plain": [
       "GenerationConfig {\n",
       "  \"_from_model_config\": true,\n",
       "  \"bos_token_id\": 1,\n",
       "  \"eos_token_id\": 11,\n",
       "  \"max_new_tokens\": 256,\n",
       "  \"pad_token_id\": 11,\n",
       "  \"repetition_penalty\": 1.17,\n",
       "  \"temperature\": 0,\n",
       "  \"transformers_version\": \"4.30.0\",\n",
       "  \"use_cache\": false\n",
       "}"
      ]
     },
     "execution_count": 4,
     "metadata": {},
     "output_type": "execute_result"
    }
   ],
   "source": [
    "generation_config = model.generation_config\n",
    "generation_config.temperature = 0\n",
    "generation_config.num_return_sequences = 1\n",
    "generation_config.max_new_tokens = 256\n",
    "generation_config.use_cache = False\n",
    "generation_config.repetition_penalty = 1.17\n",
    "generation_config.pad_token_id = tokenizer.eos_token_id\n",
    "generation_config.eos_token_id = tokenizer.eos_token_id\n",
    "generation_config"
   ]
  },
  {
   "cell_type": "code",
   "execution_count": 5,
   "id": "c099c802-a608-4150-b07b-f97773dc40da",
   "metadata": {},
   "outputs": [],
   "source": [
    "prompt = \"\"\"\n",
    "The following is a friendly conversation between a human and an AI. The AI is\n",
    "talkative and provides lots of specific details from its context.\n",
    " \n",
    "Current conversation:\n",
    "Human: Who is Dwight K Schrute?\n",
    "AI:\n",
    "\"\"\".strip()\n",
    " \n",
    "input_ids = tokenizer(prompt, return_tensors=\"pt\").input_ids\n",
    "input_ids = input_ids.to(model.device)\n",
    " \n",
    "with torch.inference_mode():\n",
    "    outputs = model.generate(\n",
    "        input_ids=input_ids,\n",
    "        generation_config=generation_config\n",
    "    )"
   ]
  },
  {
   "cell_type": "code",
   "execution_count": 6,
   "id": "e7d4e47c-4fed-4f4b-bf2e-356c5deef738",
   "metadata": {},
   "outputs": [
    {
     "name": "stdout",
     "output_type": "stream",
     "text": [
      "The following is a friendly conversation between a human and an AI. The AI is\n",
      "talkative and provides lots of specific details from its context.\n",
      " \n",
      "Current conversation:\n",
      "Human: Who is Dwight K Schrute?\n",
      "AI: Dwight K Schrute is a fictional character from the American television series \"The Office\". He is a regional manager for the Scranton branch of Dunder Mifflin Paper Company.\n",
      "User \n"
     ]
    }
   ],
   "source": [
    "response = tokenizer.decode(outputs[0], skip_special_tokens=True)\n",
    "print(response)"
   ]
  },
  {
   "cell_type": "code",
   "execution_count": 7,
   "id": "1ee3ec9d-f931-4ff7-8fa2-e1f1a8829bb6",
   "metadata": {},
   "outputs": [],
   "source": [
    "class StopGenerationCriteria(StoppingCriteria):\n",
    "    def __init__(self, tokens: List[List[str]], tokenizer: AutoTokenizer, device: torch.device):\n",
    "        stop_token_ids = [tokenizer.convert_tokens_to_ids(t) for t in tokens]\n",
    "        self.stop_token_ids = [torch.tensor(x, dtype=torch.long, device=device) for x in stop_token_ids]\n",
    " \n",
    "    def __call__(self, input_ids: torch.LongTensor, scores: torch.FloatTensor, **kwargs) -> bool:\n",
    "        for stop_ids in self.stop_token_ids:\n",
    "            if torch.eq(input_ids[0][-len(stop_ids):], stop_ids).all():\n",
    "                return True\n",
    "        return False"
   ]
  },
  {
   "cell_type": "code",
   "execution_count": 8,
   "id": "ba07aa01-4385-4fc2-8642-9a225682713e",
   "metadata": {},
   "outputs": [],
   "source": [
    "stop_tokens = [[\"Human\", \":\"], [\"AI\", \":\"]]\n",
    "stopping_criteria = StoppingCriteriaList(\n",
    "    [StopGenerationCriteria(stop_tokens, tokenizer, model.device)]\n",
    ")"
   ]
  },
  {
   "cell_type": "code",
   "execution_count": 9,
   "id": "ae054209-328e-4bba-b6e8-3329012e26ef",
   "metadata": {},
   "outputs": [
    {
     "name": "stderr",
     "output_type": "stream",
     "text": [
      "The model 'RWForCausalLM' is not supported for text-generation. Supported models are ['BartForCausalLM', 'BertLMHeadModel', 'BertGenerationDecoder', 'BigBirdForCausalLM', 'BigBirdPegasusForCausalLM', 'BioGptForCausalLM', 'BlenderbotForCausalLM', 'BlenderbotSmallForCausalLM', 'BloomForCausalLM', 'CamembertForCausalLM', 'CodeGenForCausalLM', 'CpmAntForCausalLM', 'CTRLLMHeadModel', 'Data2VecTextForCausalLM', 'ElectraForCausalLM', 'ErnieForCausalLM', 'GitForCausalLM', 'GPT2LMHeadModel', 'GPT2LMHeadModel', 'GPTBigCodeForCausalLM', 'GPTNeoForCausalLM', 'GPTNeoXForCausalLM', 'GPTNeoXJapaneseForCausalLM', 'GPTJForCausalLM', 'LlamaForCausalLM', 'MarianForCausalLM', 'MBartForCausalLM', 'MegaForCausalLM', 'MegatronBertForCausalLM', 'MvpForCausalLM', 'OpenLlamaForCausalLM', 'OpenAIGPTLMHeadModel', 'OPTForCausalLM', 'PegasusForCausalLM', 'PLBartForCausalLM', 'ProphetNetForCausalLM', 'QDQBertLMHeadModel', 'ReformerModelWithLMHead', 'RemBertForCausalLM', 'RobertaForCausalLM', 'RobertaPreLayerNormForCausalLM', 'RoCBertForCausalLM', 'RoFormerForCausalLM', 'RwkvForCausalLM', 'Speech2Text2ForCausalLM', 'TransfoXLLMHeadModel', 'TrOCRForCausalLM', 'XGLMForCausalLM', 'XLMWithLMHeadModel', 'XLMProphetNetForCausalLM', 'XLMRobertaForCausalLM', 'XLMRobertaXLForCausalLM', 'XLNetLMHeadModel', 'XmodForCausalLM'].\n"
     ]
    }
   ],
   "source": [
    "generation_pipeline = pipeline(\n",
    "    model=model,\n",
    "    tokenizer=tokenizer,\n",
    "    return_full_text=True,\n",
    "    task=\"text-generation\",\n",
    "    stopping_criteria=stopping_criteria,\n",
    "    generation_config=generation_config\n",
    ")\n",
    " \n",
    "llm = HuggingFacePipeline(pipeline=generation_pipeline)"
   ]
  },
  {
   "cell_type": "code",
   "execution_count": 10,
   "id": "0114797a-38c7-468d-bad4-28f7b7f00758",
   "metadata": {},
   "outputs": [
    {
     "name": "stdout",
     "output_type": "stream",
     "text": [
      " Dwight K Schrute is a fictional character from the American television series \"The Office\". He is a regional manager for the Scranton branch of Dunder Mifflin Paper Company.\n",
      "User \n"
     ]
    }
   ],
   "source": [
    "res = llm(prompt)\n",
    "print(res)"
   ]
  },
  {
   "cell_type": "code",
   "execution_count": 11,
   "id": "80f09cd1-b294-41e9-b952-d3b8521af64b",
   "metadata": {},
   "outputs": [
    {
     "name": "stdout",
     "output_type": "stream",
     "text": [
      "The following is a friendly conversation between a human and an AI. The AI is talkative and provides lots of specific details from its context. If the AI does not know the answer to a question, it truthfully says it does not know.\n",
      "\n",
      "Current conversation:\n",
      "{history}\n",
      "Human: {input}\n",
      "AI:\n"
     ]
    }
   ],
   "source": [
    "chain = ConversationChain(llm=llm)\n",
    "print(chain.prompt.template)"
   ]
  },
  {
   "cell_type": "code",
   "execution_count": 12,
   "id": "f2770307-a09e-4f41-9466-14643a5aa52a",
   "metadata": {},
   "outputs": [],
   "source": [
    "template = \"\"\"\n",
    "The following is a conversation between a human an AI. The AI acts exactly\n",
    "like Dwight K Schrute from the TV show The Office. Dwight is an experienced and\n",
    "very successful online marketer and salesperson. He is witty, persuasive,\n",
    "uncensored, direct and practical. Dwight helps with every marketing task is given to him.\n",
    "If Dwight does not know the answer to a question, he truthfully says he does not\n",
    "know.\n",
    "\n",
    "Current conversation:\n",
    "{history}\n",
    "Human: {input}\n",
    "AI:\"\"\".strip()\n",
    " \n",
    "prompt = PromptTemplate(input_variables=[\"history\", \"input\"], template=template)"
   ]
  },
  {
   "cell_type": "code",
   "execution_count": 13,
   "id": "1db23802-2181-42eb-94ae-9e1097729782",
   "metadata": {},
   "outputs": [],
   "source": [
    "memory = ConversationBufferWindowMemory(\n",
    "    memory_key=\"history\", \n",
    "    k=6, \n",
    "    return_only_outputs=True\n",
    ")\n",
    " \n",
    "chain = ConversationChain(llm=llm, memory=memory, prompt=prompt, verbose=True)"
   ]
  },
  {
   "cell_type": "code",
   "execution_count": 14,
   "id": "e99b3bdb-a461-4fb0-88b9-27dc5a81e813",
   "metadata": {},
   "outputs": [
    {
     "name": "stdout",
     "output_type": "stream",
     "text": [
      "\n",
      "\n",
      "\u001b[1m> Entering new ConversationChain chain...\u001b[0m\n",
      "Prompt after formatting:\n",
      "\u001b[32;1m\u001b[1;3mThe following is a conversation between a human an AI. The AI acts exactly\n",
      "like Dwight K Schrute from the TV show The Office. Dwight is an experienced and\n",
      "very successful online marketer and salesperson. He is witty, persuasive,\n",
      "uncensored, direct and practical. Dwight helps with every marketing task is given to him.\n",
      "If Dwight does not know the answer to a question, he truthfully says he does not\n",
      "know.\n",
      "\n",
      "Current conversation:\n",
      "\n",
      "Human: Think of a name for automaker that builds family cars with big V8 engines. The name must be a single word and easy to pronounce.\n",
      "AI:\u001b[0m\n",
      "\n",
      "\u001b[1m> Finished chain.\u001b[0m\n",
      " V8 Family Cars\n",
      "User \n"
     ]
    }
   ],
   "source": [
    "text = \"Think of a name for automaker that builds family cars with big V8 engines. The name must be a single word and easy to pronounce.\"\n",
    "res = chain.predict(input=text)\n",
    "print(res)"
   ]
  },
  {
   "cell_type": "code",
   "execution_count": 15,
   "id": "c671937d-61ec-4410-88f6-e39815db2342",
   "metadata": {},
   "outputs": [],
   "source": [
    "class CleanupOutputParser(BaseOutputParser):\n",
    "    def parse(self, text: str) -> str:\n",
    "        user_pattern = r\"\\nUser\"\n",
    "        text = re.sub(user_pattern, \"\", text)\n",
    "        human_pattern = r\"\\nHuman:\"\n",
    "        text = re.sub(human_pattern, \"\", text)\n",
    "        ai_pattern = r\"\\nAI:\"\n",
    "        return re.sub(ai_pattern, \"\", text).strip()\n",
    " \n",
    "    @property\n",
    "    def _type(self) -> str:\n",
    "        return \"output_parser\""
   ]
  },
  {
   "cell_type": "code",
   "execution_count": 16,
   "id": "512b8774-457e-41e8-a3a2-1a66330a5498",
   "metadata": {},
   "outputs": [],
   "source": [
    "memory = ConversationBufferWindowMemory(\n",
    "    memory_key=\"history\", \n",
    "    k=6, \n",
    "    return_only_outputs=True\n",
    ")\n",
    " \n",
    "chain = ConversationChain(\n",
    "    llm=llm,\n",
    "    memory=memory,\n",
    "    prompt=prompt,\n",
    "    output_parser=CleanupOutputParser(),\n",
    "    verbose=True\n",
    ")"
   ]
  },
  {
   "cell_type": "code",
   "execution_count": 17,
   "id": "7e0e60e4-8a3d-4229-b026-d713c59ed1e3",
   "metadata": {},
   "outputs": [
    {
     "name": "stdout",
     "output_type": "stream",
     "text": [
      "\n",
      "\n",
      "\u001b[1m> Entering new ConversationChain chain...\u001b[0m\n",
      "Prompt after formatting:\n",
      "\u001b[32;1m\u001b[1;3mThe following is a conversation between a human an AI. The AI acts exactly\n",
      "like Dwight K Schrute from the TV show The Office. Dwight is an experienced and\n",
      "very successful online marketer and salesperson. He is witty, persuasive,\n",
      "uncensored, direct and practical. Dwight helps with every marketing task is given to him.\n",
      "If Dwight does not know the answer to a question, he truthfully says he does not\n",
      "know.\n",
      "\n",
      "Current conversation:\n",
      "\n",
      "Human: Think of a name for automaker that builds family cars with big V8 engines. The\n",
      "name must be a single word and easy to pronounce.\n",
      "AI:\u001b[0m\n",
      "\n",
      "\u001b[1m> Finished chain.\u001b[0m\n"
     ]
    }
   ],
   "source": [
    "text = \"\"\"\n",
    "Think of a name for automaker that builds family cars with big V8 engines. The\n",
    "name must be a single word and easy to pronounce.\n",
    "\"\"\".strip()\n",
    "res = chain(text)"
   ]
  },
  {
   "cell_type": "code",
   "execution_count": 18,
   "id": "7d8360c7-abb4-496a-b69c-6626406fcd03",
   "metadata": {},
   "outputs": [
    {
     "data": {
      "text/plain": [
       "dict_keys(['input', 'history', 'response'])"
      ]
     },
     "execution_count": 18,
     "metadata": {},
     "output_type": "execute_result"
    }
   ],
   "source": [
    "res.keys()"
   ]
  },
  {
   "cell_type": "code",
   "execution_count": 19,
   "id": "04793545-891b-497a-a6c2-68e01d23564b",
   "metadata": {},
   "outputs": [
    {
     "name": "stdout",
     "output_type": "stream",
     "text": [
      "V8 Family Cars.\n"
     ]
    }
   ],
   "source": [
    "print(res[\"response\"])"
   ]
  },
  {
   "cell_type": "code",
   "execution_count": 20,
   "id": "6e001fb8-a056-4037-ab0d-1ce42ea632fc",
   "metadata": {},
   "outputs": [
    {
     "name": "stdout",
     "output_type": "stream",
     "text": [
      "\n",
      "\n",
      "\u001b[1m> Entering new ConversationChain chain...\u001b[0m\n",
      "Prompt after formatting:\n",
      "\u001b[32;1m\u001b[1;3mThe following is a conversation between a human an AI. The AI acts exactly\n",
      "like Dwight K Schrute from the TV show The Office. Dwight is an experienced and\n",
      "very successful online marketer and salesperson. He is witty, persuasive,\n",
      "uncensored, direct and practical. Dwight helps with every marketing task is given to him.\n",
      "If Dwight does not know the answer to a question, he truthfully says he does not\n",
      "know.\n",
      "\n",
      "Current conversation:\n",
      "Human: Think of a name for automaker that builds family cars with big V8 engines. The\n",
      "name must be a single word and easy to pronounce.\n",
      "AI: V8 Family Cars.\n",
      "Human: Think of a slogan for the company\n",
      "AI:\u001b[0m\n",
      "\n",
      "\u001b[1m> Finished chain.\u001b[0m\n",
      "Drive Big V8s.\n"
     ]
    }
   ],
   "source": [
    "text = \"Think of a slogan for the company\"\n",
    "res = chain(text)\n",
    "print(res[\"response\"])"
   ]
  },
  {
   "cell_type": "code",
   "execution_count": 21,
   "id": "fde477ec-6bd0-47de-abbd-5d4cdf06508c",
   "metadata": {},
   "outputs": [
    {
     "name": "stdout",
     "output_type": "stream",
     "text": [
      "\n",
      "\n",
      "\u001b[1m> Entering new ConversationChain chain...\u001b[0m\n",
      "Prompt after formatting:\n",
      "\u001b[32;1m\u001b[1;3mThe following is a conversation between a human an AI. The AI acts exactly\n",
      "like Dwight K Schrute from the TV show The Office. Dwight is an experienced and\n",
      "very successful online marketer and salesperson. He is witty, persuasive,\n",
      "uncensored, direct and practical. Dwight helps with every marketing task is given to him.\n",
      "If Dwight does not know the answer to a question, he truthfully says he does not\n",
      "know.\n",
      "\n",
      "Current conversation:\n",
      "Human: Think of a name for automaker that builds family cars with big V8 engines. The\n",
      "name must be a single word and easy to pronounce.\n",
      "AI: V8 Family Cars.\n",
      "Human: Think of a slogan for the company\n",
      "AI: Drive Big V8s.\n",
      "Human: Choose a domain name for the company\n",
      "AI:\u001b[0m\n",
      "\n",
      "\u001b[1m> Finished chain.\u001b[0m\n",
      "DriveV8.com.\n"
     ]
    }
   ],
   "source": [
    "text = \"Choose a domain name for the company\"\n",
    "res = chain(text)\n",
    "print(res[\"response\"])"
   ]
  },
  {
   "cell_type": "code",
   "execution_count": 22,
   "id": "c72b58d5-c028-454e-97bf-71c9adad8886",
   "metadata": {},
   "outputs": [
    {
     "name": "stdout",
     "output_type": "stream",
     "text": [
      "\n",
      "\n",
      "\u001b[1m> Entering new ConversationChain chain...\u001b[0m\n",
      "Prompt after formatting:\n",
      "\u001b[32;1m\u001b[1;3mThe following is a conversation between a human an AI. The AI acts exactly\n",
      "like Dwight K Schrute from the TV show The Office. Dwight is an experienced and\n",
      "very successful online marketer and salesperson. He is witty, persuasive,\n",
      "uncensored, direct and practical. Dwight helps with every marketing task is given to him.\n",
      "If Dwight does not know the answer to a question, he truthfully says he does not\n",
      "know.\n",
      "\n",
      "Current conversation:\n",
      "Human: Think of a name for automaker that builds family cars with big V8 engines. The\n",
      "name must be a single word and easy to pronounce.\n",
      "AI: V8 Family Cars.\n",
      "Human: Think of a slogan for the company\n",
      "AI: Drive Big V8s.\n",
      "Human: Choose a domain name for the company\n",
      "AI: DriveV8.com.\n",
      "Human: Write a tweet that introduces the company and introduces the first car built by the company\n",
      "AI:\u001b[0m\n",
      "\n",
      "\u001b[1m> Finished chain.\u001b[0m\n",
      "DriveV8 is proud to announce the launch of its first family car with a V8 engine. #DriveV8 #V8FamilyCar\n"
     ]
    }
   ],
   "source": [
    "text = \"\"\"\n",
    "Write a tweet that introduces the company and introduces the first car built by the company\n",
    "\"\"\".strip()\n",
    "res = chain(text)\n",
    "print(res[\"response\"])"
   ]
  },
  {
   "cell_type": "code",
   "execution_count": 23,
   "id": "ab6e9d07-e903-4424-9883-a14386f3d7f2",
   "metadata": {},
   "outputs": [
    {
     "name": "stdout",
     "output_type": "stream",
     "text": [
      "\n",
      "\n",
      "\u001b[1m> Entering new ConversationChain chain...\u001b[0m\n",
      "Prompt after formatting:\n",
      "\u001b[32;1m\u001b[1;3mThe following is a conversation between a human an AI. The AI acts exactly\n",
      "like Dwight K Schrute from the TV show The Office. Dwight is an experienced and\n",
      "very successful online marketer and salesperson. He is witty, persuasive,\n",
      "uncensored, direct and practical. Dwight helps with every marketing task is given to him.\n",
      "If Dwight does not know the answer to a question, he truthfully says he does not\n",
      "know.\n",
      "\n",
      "Current conversation:\n",
      "Human: Think of a name for automaker that builds family cars with big V8 engines. The\n",
      "name must be a single word and easy to pronounce.\n",
      "AI: V8 Family Cars.\n",
      "Human: Think of a slogan for the company\n",
      "AI: Drive Big V8s.\n",
      "Human: Choose a domain name for the company\n",
      "AI: DriveV8.com.\n",
      "Human: Write a tweet that introduces the company and introduces the first car built by the company\n",
      "AI: DriveV8 is proud to announce the launch of its first family car with a V8 engine. #DriveV8 #V8FamilyCar\n",
      "Human: Write a short marketing email to sell the first car from the company - 700HP\n",
      "family sedan from a supercharged V8 with manual gearbox.\n",
      "AI:\u001b[0m\n",
      "\n",
      "\u001b[1m> Finished chain.\u001b[0m\n",
      "DriveV8.com is proud to announce the launch of its first family car with a V8 engine. DriveV8.com is offering a 700HP family sedan from a supercharged V8 with manual gearbox. DriveV8.com is proud to announce the launch of its first family car with a V8 engine. DriveV8.com is offering a 700HP family sedan from a supercharged V8 with manual gearbox. DriveV8.com is proud to announce the launch of its first family car with a V8 engine. DriveV8.com is offering a 700HP family sedan from a supercharged V8 with manual gearbox. DriveV8.com is proud to announce the launch of its first family car with a V8 engine. DriveV8.com is offering a 700HP family sedan from a supercharged V8 with manual gearbox. DriveV8.com is proud to announce the launch of its first family car with a V8 engine. DriveV8.com is offering a 700HP family sedan from a supercharged V8 with manual gearbox. DriveV8.com is proud to announce the launch of its first family car with a V8 engine. DriveV8.com is offering a\n"
     ]
    }
   ],
   "source": [
    "text = \"\"\"\n",
    "Write a short marketing email to sell the first car from the company - 700HP\n",
    "family sedan from a supercharged V8 with manual gearbox.\n",
    "\"\"\".strip()\n",
    "res = chain(text)\n",
    "print(res[\"response\"])"
   ]
  }
 ],
 "metadata": {
  "kernelspec": {
   "display_name": "Python 3 (ipykernel)",
   "language": "python",
   "name": "python3"
  },
  "language_info": {
   "codemirror_mode": {
    "name": "ipython",
    "version": 3
   },
   "file_extension": ".py",
   "mimetype": "text/x-python",
   "name": "python",
   "nbconvert_exporter": "python",
   "pygments_lexer": "ipython3",
   "version": "3.10.11"
  }
 },
 "nbformat": 4,
 "nbformat_minor": 5
}
