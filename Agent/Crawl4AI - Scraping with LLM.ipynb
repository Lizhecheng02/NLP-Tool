{
 "cells": [
  {
   "cell_type": "code",
   "execution_count": null,
   "metadata": {
    "colab": {
     "base_uri": "https://localhost:8080/"
    },
    "executionInfo": {
     "elapsed": 14953,
     "status": "ok",
     "timestamp": 1730232767524,
     "user": {
      "displayName": "Abdul M",
      "userId": "08932730162836829175"
     },
     "user_tz": -330
    },
    "id": "Q7haH64e5_0r",
    "outputId": "af7f41ca-563e-4de2-f689-527c4c37dc82"
   },
   "outputs": [],
   "source": [
    "!sudo apt-get update && sudo apt-get install -y libwoff1 libopus0 libwebp6 libwebpdemux2 libenchant1c2a libgudev-1.0-0 libsecret-1-0 libhyphen0 libgdk-pixbuf2.0-0 libegl1 libnotify4 libxslt1.1 libevent-2.1-7 libgles2 libvpx6 libxcomposite1 libatk1.0-0 libatk-bridge2.0-0 libepoxy0 libgtk-3-0 libharfbuzz-icu0"
   ]
  },
  {
   "cell_type": "code",
   "execution_count": null,
   "metadata": {
    "colab": {
     "base_uri": "https://localhost:8080/"
    },
    "executionInfo": {
     "elapsed": 49725,
     "status": "ok",
     "timestamp": 1730232817244,
     "user": {
      "displayName": "Abdul M",
      "userId": "08932730162836829175"
     },
     "user_tz": -330
    },
    "id": "BdAuCMm96HPK",
    "outputId": "348a68cb-be80-4ef0-fa3e-2d5a5c29466c"
   },
   "outputs": [],
   "source": [
    "# !pip install \"crawl4ai @ git+https://github.com/unclecode/crawl4ai.git\"\n",
    "# !pip install \"crawl4ai @ git+https://github.com/unclecode/crawl4ai.git@staging\"\n",
    "!pip install crawl4ai\n",
    "!pip install nest-asyncio\n",
    "!playwright install"
   ]
  },
  {
   "cell_type": "code",
   "execution_count": null,
   "metadata": {
    "colab": {
     "base_uri": "https://localhost:8080/"
    },
    "executionInfo": {
     "elapsed": 1274,
     "status": "ok",
     "timestamp": 1730232818513,
     "user": {
      "displayName": "Abdul M",
      "userId": "08932730162836829175"
     },
     "user_tz": -330
    },
    "id": "3VizypJK6J-i",
    "outputId": "66d96ce7-0c97-42c2-a6e4-ad9e2d3e5f82"
   },
   "outputs": [],
   "source": [
    "import asyncio\n",
    "import nest_asyncio\n",
    "from crawl4ai import AsyncWebCrawler\n",
    "from crawl4ai.extraction_strategy import JsonCssExtractionStrategy, LLMExtractionStrategy\n",
    "import json\n",
    "import time\n",
    "from pydantic import BaseModel, Field\n",
    "\n",
    "nest_asyncio.apply()"
   ]
  },
  {
   "cell_type": "code",
   "execution_count": null,
   "metadata": {
    "id": "6SvtaGCp6WyH"
   },
   "outputs": [],
   "source": [
    "import os\n",
    "os.environ['OPENAI_API_KEY'] = 'sk-proj-xxxx'"
   ]
  },
  {
   "cell_type": "code",
   "execution_count": null,
   "metadata": {
    "colab": {
     "base_uri": "https://localhost:8080/"
    },
    "executionInfo": {
     "elapsed": 6999,
     "status": "ok",
     "timestamp": 1730233744747,
     "user": {
      "displayName": "Abdul M",
      "userId": "08932730162836829175"
     },
     "user_tz": -330
    },
    "id": "Z49pPNht6MSP",
    "outputId": "6fb2c714-442b-4e2c-9634-d1e8c70c5264"
   },
   "outputs": [],
   "source": [
    "import os\n",
    "from google.colab import userdata\n",
    "\n",
    "\n",
    "class OpenAIModelFee(BaseModel):\n",
    "    player_name: str = Field(..., description=\"Name of the player\")\n",
    "    elo_score: str = Field(..., description=\"Elo Score of the player\")\n",
    "    games_number: str = Field(..., description=\"Number of games of the player\")\n",
    "\n",
    "\n",
    "async def extract_openai_fees():\n",
    "    async with AsyncWebCrawler(verbose=True) as crawler:\n",
    "        result = await crawler.arun(\n",
    "            url='https://lichess.org/broadcast/fide-world-youth-chess-championships-2024--o18/round-1/0SPgwmAM#players',\n",
    "            word_count_threshold=1,\n",
    "            extraction_strategy=LLMExtractionStrategy(\n",
    "                provider=\"openai/gpt-4o-mini-2024-07-18\", api_token=os.getenv('OPENAI_API_KEY'),\n",
    "                schema=OpenAIModelFee.schema(),\n",
    "                extraction_type=\"schema\",\n",
    "                instruction=\"\"\"From the crawled content, extract all mentioned player names along with their scores and games.\n",
    "                Do not miss any models in the entire content. One extracted model JSON format should look like this:\n",
    "                {\"player_name\": \"Abdul M\", \"elo_score\": \"1400\", \"games_number\": \"0\"}.\"\"\"\n",
    "            ),\n",
    "            bypass_cache=True\n",
    "        )\n",
    "        print((result.extracted_content))\n",
    "\n",
    "# Uncomment the following line to run the OpenAI extraction example\n",
    "await extract_openai_fees()"
   ]
  }
 ],
 "metadata": {
  "colab": {
   "provenance": [
    {
     "file_id": "1rLhfPGrbNMfh2oZY5iBEaaFYM09nyyWu",
     "timestamp": 1735682436888
    }
   ]
  },
  "kernelspec": {
   "display_name": "Python 3",
   "name": "python3"
  },
  "language_info": {
   "name": "python"
  }
 },
 "nbformat": 4,
 "nbformat_minor": 0
}
