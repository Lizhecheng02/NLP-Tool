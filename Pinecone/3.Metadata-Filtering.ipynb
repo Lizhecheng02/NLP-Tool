{
 "cells": [
  {
   "cell_type": "code",
   "execution_count": 1,
   "metadata": {},
   "outputs": [
    {
     "name": "stderr",
     "output_type": "stream",
     "text": [
      "c:\\Users\\86183\\anaconda3\\lib\\site-packages\\pinecone\\index.py:4: TqdmExperimentalWarning: Using `tqdm.autonotebook.tqdm` in notebook mode. Use `tqdm.tqdm` instead to force console mode (e.g. in jupyter console)\n",
      "  from tqdm.autonotebook import tqdm\n"
     ]
    }
   ],
   "source": [
    "import pinecone\n",
    "import os \n",
    "\n",
    "PINECONE_API_KEY = \"bf349a22-3a4e-487a-a05a-14f9193ed5e6\"\n",
    "PINECONE_ENV_KEY = \"asia-southeast1-gcp-free\"\n",
    "\n",
    "pinecone.init(\n",
    "    api_key=PINECONE_API_KEY,\n",
    "    environment=PINECONE_ENV_KEY\n",
    ")"
   ]
  },
  {
   "cell_type": "code",
   "execution_count": 2,
   "metadata": {},
   "outputs": [],
   "source": [
    "index_name = \"pinecone-metadata-filtering\"\n",
    "\n",
    "if index_name in pinecone.list_indexes():\n",
    "    pinecone.delete_index(index_name)\n",
    "\n",
    "pinecone.create_index(\n",
    "    name=index_name,\n",
    "    dimension=2,\n",
    "    metric=\"euclidean\",\n",
    "    shards=1\n",
    ")"
   ]
  },
  {
   "cell_type": "code",
   "execution_count": 3,
   "metadata": {},
   "outputs": [],
   "source": [
    "index = pinecone.Index(\n",
    "    index_name=index_name\n",
    ")"
   ]
  },
  {
   "cell_type": "code",
   "execution_count": 5,
   "metadata": {},
   "outputs": [
    {
     "data": {
      "text/html": [
       "<div>\n",
       "<style scoped>\n",
       "    .dataframe tbody tr th:only-of-type {\n",
       "        vertical-align: middle;\n",
       "    }\n",
       "\n",
       "    .dataframe tbody tr th {\n",
       "        vertical-align: top;\n",
       "    }\n",
       "\n",
       "    .dataframe thead th {\n",
       "        text-align: right;\n",
       "    }\n",
       "</style>\n",
       "<table border=\"1\" class=\"dataframe\">\n",
       "  <thead>\n",
       "    <tr style=\"text-align: right;\">\n",
       "      <th></th>\n",
       "      <th>id</th>\n",
       "      <th>vector</th>\n",
       "      <th>metadata</th>\n",
       "    </tr>\n",
       "  </thead>\n",
       "  <tbody>\n",
       "    <tr>\n",
       "      <th>0</th>\n",
       "      <td>F-1</td>\n",
       "      <td>[1.0, 1.0]</td>\n",
       "      <td>{'category': 'finance', 'published': 2015}</td>\n",
       "    </tr>\n",
       "    <tr>\n",
       "      <th>1</th>\n",
       "      <td>F-2</td>\n",
       "      <td>[2.0, 2.0]</td>\n",
       "      <td>{'category': 'finance', 'published': 2016}</td>\n",
       "    </tr>\n",
       "    <tr>\n",
       "      <th>2</th>\n",
       "      <td>S-1</td>\n",
       "      <td>[3.0, 3.0]</td>\n",
       "      <td>{'category': 'sport', 'published': 2017}</td>\n",
       "    </tr>\n",
       "    <tr>\n",
       "      <th>3</th>\n",
       "      <td>S-2</td>\n",
       "      <td>[4.0, 4.0]</td>\n",
       "      <td>{'category': 'sport', 'published': 2018}</td>\n",
       "    </tr>\n",
       "  </tbody>\n",
       "</table>\n",
       "</div>"
      ],
      "text/plain": [
       "    id      vector                                    metadata\n",
       "0  F-1  [1.0, 1.0]  {'category': 'finance', 'published': 2015}\n",
       "1  F-2  [2.0, 2.0]  {'category': 'finance', 'published': 2016}\n",
       "2  S-1  [3.0, 3.0]    {'category': 'sport', 'published': 2017}\n",
       "3  S-2  [4.0, 4.0]    {'category': 'sport', 'published': 2018}"
      ]
     },
     "execution_count": 5,
     "metadata": {},
     "output_type": "execute_result"
    }
   ],
   "source": [
    "import pandas as pd \n",
    "\n",
    "df = pd.DataFrame() \n",
    "df[\"id\"] = [\"F-1\", \"F-2\", \"S-1\", \"S-2\"]\n",
    "df[\"vector\"] = [[1., 1.], [2., 2.], [3., 3.], [4., 4.]]\n",
    "df[\"metadata\"] = [\n",
    "    {\"category\": \"finance\", \"published\": 2015},\n",
    "    {\"category\": \"finance\", \"published\": 2016},\n",
    "    {\"category\": \"sport\", \"published\": 2017},\n",
    "    {\"category\": \"sport\", \"published\": 2018}\n",
    "]\n",
    "df "
   ]
  },
  {
   "cell_type": "code",
   "execution_count": 7,
   "metadata": {},
   "outputs": [
    {
     "data": {
      "text/plain": [
       "{'dimension': 2,\n",
       " 'index_fullness': 0.0,\n",
       " 'namespaces': {'': {'vector_count': 4}},\n",
       " 'total_vector_count': 4}"
      ]
     },
     "execution_count": 7,
     "metadata": {},
     "output_type": "execute_result"
    }
   ],
   "source": [
    "index.upsert(\n",
    "    vectors=zip(df[\"id\"], df[\"vector\"], df[\"metadata\"])\n",
    ")\n",
    "index.describe_index_stats()"
   ]
  },
  {
   "cell_type": "code",
   "execution_count": 8,
   "metadata": {},
   "outputs": [
    {
     "data": {
      "text/plain": [
       "{'namespace': '',\n",
       " 'vectors': {'F-1': {'id': 'F-1',\n",
       "                     'metadata': {'category': 'finance', 'published': 2015.0},\n",
       "                     'values': [1.0, 1.0]}}}"
      ]
     },
     "execution_count": 8,
     "metadata": {},
     "output_type": "execute_result"
    }
   ],
   "source": [
    "index.fetch(\n",
    "    ids=[\"F-1\"]\n",
    ")"
   ]
  },
  {
   "cell_type": "code",
   "execution_count": 10,
   "metadata": {},
   "outputs": [
    {
     "data": {
      "text/plain": [
       "{'results': [{'matches': [{'id': 'F-1', 'score': 0.0, 'values': []},\n",
       "                          {'id': 'F-2', 'score': 1.99999905, 'values': []}],\n",
       "              'namespace': ''}]}"
      ]
     },
     "execution_count": 10,
     "metadata": {},
     "output_type": "execute_result"
    }
   ],
   "source": [
    "query_results = index.query(\n",
    "    queries=df[df[\"id\"] == \"F-1\"][\"vector\"],\n",
    "    top_k=2\n",
    ")\n",
    "query_results"
   ]
  },
  {
   "cell_type": "code",
   "execution_count": 11,
   "metadata": {},
   "outputs": [
    {
     "data": {
      "text/plain": [
       "{'results': [{'matches': [{'id': 'F-2', 'score': 1.99999905, 'values': []}],\n",
       "              'namespace': ''}]}"
      ]
     },
     "execution_count": 11,
     "metadata": {},
     "output_type": "execute_result"
    }
   ],
   "source": [
    "filter_condition = {\n",
    "    \"category\": {\"$eq\": \"finance\"},\n",
    "    \"published\": {\"$gt\": 2015}\n",
    "}\n",
    "\n",
    "query_results = index.query(\n",
    "    queries=df[df[\"id\"] == \"F-1\"][\"vector\"],\n",
    "    top_k=2,\n",
    "    filter=filter_condition\n",
    ")\n",
    "\n",
    "query_results"
   ]
  },
  {
   "cell_type": "code",
   "execution_count": 12,
   "metadata": {},
   "outputs": [],
   "source": [
    "pinecone.delete_index(index_name)"
   ]
  }
 ],
 "metadata": {
  "kernelspec": {
   "display_name": "base",
   "language": "python",
   "name": "python3"
  },
  "language_info": {
   "codemirror_mode": {
    "name": "ipython",
    "version": 3
   },
   "file_extension": ".py",
   "mimetype": "text/x-python",
   "name": "python",
   "nbconvert_exporter": "python",
   "pygments_lexer": "ipython3",
   "version": "3.10.9"
  },
  "orig_nbformat": 4
 },
 "nbformat": 4,
 "nbformat_minor": 2
}
