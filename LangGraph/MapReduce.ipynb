{
  "cells": [
    {
      "cell_type": "code",
      "execution_count": null,
      "metadata": {
        "colab": {
          "base_uri": "https://localhost:8080/"
        },
        "id": "Vf3Z06zIJLq-",
        "outputId": "c739ca5e-d2da-4082-db2f-cf8bd6b3d3b0"
      },
      "outputs": [],
      "source": [
        "!pip install langchain langchain_core langchain_community langchain_openai langgraph"
      ]
    },
    {
      "cell_type": "code",
      "execution_count": null,
      "metadata": {
        "id": "d3_a6WEmKPQ7"
      },
      "outputs": [],
      "source": [
        "import operator\n",
        "import os\n",
        "from typing import Annotated, TypedDict\n",
        "from langchain_core.pydantic_v1 import BaseModel\n",
        "from langchain_openai import ChatOpenAI\n",
        "from langgraph.constants import Send\n",
        "from langgraph.graph import END, StateGraph, START\n",
        "from pprint import pprint\n",
        "from IPython.display import Image"
      ]
    },
    {
      "cell_type": "code",
      "execution_count": null,
      "metadata": {
        "id": "y4XgHP6IKk8j"
      },
      "outputs": [],
      "source": [
        "os.environ[\"OPENAI_API_KEY\"] = \"\""
      ]
    },
    {
      "cell_type": "code",
      "execution_count": null,
      "metadata": {
        "id": "3_GsyYVGKv_X"
      },
      "outputs": [],
      "source": [
        "model = ChatOpenAI(model=\"gpt-4o-mini\")"
      ]
    },
    {
      "cell_type": "code",
      "execution_count": null,
      "metadata": {
        "id": "ySqctD_vK4Tp"
      },
      "outputs": [],
      "source": [
        "# Define the prompts\n",
        "step1_prompt = \"\"\"Step 1: I have a problem related to {input}.\n",
        "Could you brainstorm three distinct solutions?\n",
        "Please consider a variety of factors such as {perfect_factors}\"\"\"\n",
        "\n",
        "step2_prompt = \"\"\"Step 2: For each of the three proposed solutions, evaluate their potential.\n",
        "Consider their pros and cons, initial effort needed, implementation difficulty, potential challenges,\n",
        "and the expected outcomes. Assign a probability of success and a confidence level\n",
        "to each option based on these factors.\n",
        "\n",
        "Solutions:\n",
        "{solutions}\"\"\"\n",
        "\n",
        "step3_prompt = \"\"\"Step 3: For each solution, deepen the thought process.\n",
        "Generate potential scenarios, strategies for implementation, any necessary partnerships or resources,\n",
        "and how potential obstacles might be overcome. Also, consider any potential unexpected outcomes\n",
        "and how they might be handled.\n",
        "\n",
        "Evaluation:\n",
        "{review}\"\"\"\n",
        "\n",
        "step4_prompt = \"\"\"Step 4: Based on the evaluations and scenarios,\n",
        "rank the solutions in order of promise. Provide a justification for each ranking\n",
        "and offer any final thoughts or considerations for each solution.\n",
        "\n",
        "Detailed analysis:\n",
        "{deepen_thought_process}\"\"\""
      ]
    },
    {
      "cell_type": "code",
      "execution_count": null,
      "metadata": {
        "id": "kODpkdOWLMXQ"
      },
      "outputs": [],
      "source": [
        "# Define the output structures\n",
        "class Solutions(BaseModel):\n",
        "    solutions: list[str]\n",
        "\n",
        "class Review(BaseModel):\n",
        "    review: str\n",
        "\n",
        "class DeepThought(BaseModel):\n",
        "    deep_thought: str\n",
        "\n",
        "class RankedSolutions(BaseModel):\n",
        "    ranked_solutions: str\n",
        "\n",
        "# Define the overall state\n",
        "class OverallState(TypedDict):\n",
        "    input: str\n",
        "    perfect_factors: str\n",
        "    solutions: Annotated[list[str], operator.add]\n",
        "    reviews: Annotated[list[str], operator.add]\n",
        "    deep_thoughts: Annotated[list[str], operator.add]\n",
        "    ranked_solutions: str\n",
        "\n",
        "# Define the state for individual solution processing\n",
        "class SolutionState(TypedDict):\n",
        "    solution: str"
      ]
    },
    {
      "cell_type": "code",
      "execution_count": null,
      "metadata": {
        "id": "JUbEPQunLSA1"
      },
      "outputs": [],
      "source": [
        "# Graph components\n",
        "def generate_solutions(state: OverallState):\n",
        "    prompt = step1_prompt.format(input=state[\"input\"], perfect_factors=state[\"perfect_factors\"])\n",
        "    response = model.with_structured_output(Solutions).invoke(prompt)\n",
        "    return {\"solutions\": response.solutions}\n",
        "\n",
        "def evaluate_solution(state: SolutionState):\n",
        "    prompt = step2_prompt.format(solutions=state[\"solution\"])\n",
        "    response = model.with_structured_output(Review).invoke(prompt)\n",
        "    return {\"reviews\": [response.review]}\n",
        "\n",
        "def deepen_thought(state: SolutionState):\n",
        "    prompt = step3_prompt.format(review=state[\"solution\"])\n",
        "    response = model.with_structured_output(DeepThought).invoke(prompt)\n",
        "    return {\"deep_thoughts\": [response.deep_thought]}\n",
        "\n",
        "def rank_solutions(state: OverallState):\n",
        "    deep_thoughts = \"\\n\\n\".join(state[\"deep_thoughts\"])\n",
        "    prompt = step4_prompt.format(deepen_thought_process=deep_thoughts)\n",
        "    response = model.with_structured_output(RankedSolutions).invoke(prompt)\n",
        "    return {\"ranked_solutions\": response.ranked_solutions}\n",
        "\n",
        "# Define the mapping logic\n",
        "def continue_to_evaluation(state: OverallState):\n",
        "    return [Send(\"evaluate_solution\", {\"solution\": s}) for s in state[\"solutions\"]]\n",
        "\n",
        "def continue_to_deep_thought(state: OverallState):\n",
        "    return [Send(\"deepen_thought\", {\"solution\": r}) for r in state[\"reviews\"]]"
      ]
    },
    {
      "cell_type": "code",
      "execution_count": null,
      "metadata": {
        "id": "lljoVKA2LVsq"
      },
      "outputs": [],
      "source": [
        "graph = StateGraph(OverallState)\n",
        "\n",
        "graph.add_node(\"generate_solutions\", generate_solutions)\n",
        "graph.add_node(\"evaluate_solution\", evaluate_solution)\n",
        "graph.add_node(\"deepen_thought\", deepen_thought)\n",
        "graph.add_node(\"rank_solutions\", rank_solutions)\n",
        "\n",
        "graph.add_edge(START, \"generate_solutions\")\n",
        "graph.add_conditional_edges(\"generate_solutions\", continue_to_evaluation, [\"evaluate_solution\"])\n",
        "graph.add_conditional_edges(\"evaluate_solution\", continue_to_deep_thought, [\"deepen_thought\"])\n",
        "graph.add_edge(\"deepen_thought\", \"rank_solutions\")\n",
        "graph.add_edge(\"rank_solutions\", END)"
      ]
    },
    {
      "cell_type": "code",
      "execution_count": null,
      "metadata": {
        "id": "fCjMG4jyLofG"
      },
      "outputs": [],
      "source": [
        "app = graph.compile()"
      ]
    },
    {
      "cell_type": "code",
      "execution_count": null,
      "metadata": {
        "colab": {
          "base_uri": "https://localhost:8080/"
        },
        "id": "5Wb7_nrXLrEV",
        "outputId": "69338cd3-add8-459a-abe2-0c0764fef3ff"
      },
      "outputs": [],
      "source": [
        "for s in app.stream({\n",
        "    \"input\": \"improving public transportation in a growing city\",\n",
        "    \"perfect_factors\": \"cost, efficiency, environmental impact, and user experience\"\n",
        "}):\n",
        "    print(s)"
      ]
    },
    {
      "cell_type": "code",
      "execution_count": null,
      "metadata": {
        "colab": {
          "base_uri": "https://localhost:8080/"
        },
        "id": "6oJy6XJyMSAo",
        "outputId": "95d73434-1427-431b-8227-5adc1ab4e418"
      },
      "outputs": [],
      "source": [
        "pprint(s)"
      ]
    },
    {
      "cell_type": "code",
      "execution_count": null,
      "metadata": {
        "colab": {
          "base_uri": "https://localhost:8080/",
          "height": 488
        },
        "id": "TCiWVGEULzWG",
        "outputId": "78725846-3a4d-4c4f-bbd3-c9d188e001ef"
      },
      "outputs": [],
      "source": [
        "Image(app.get_graph().draw_mermaid_png())"
      ]
    }
  ],
  "metadata": {
    "colab": {
      "provenance": []
    },
    "kernelspec": {
      "display_name": "Python 3",
      "name": "python3"
    },
    "language_info": {
      "name": "python"
    }
  },
  "nbformat": 4,
  "nbformat_minor": 0
}
