{
 "cells": [
  {
   "cell_type": "code",
   "execution_count": null,
   "metadata": {
    "id": "kBChdle68C3E"
   },
   "outputs": [],
   "source": [
    "!pip -q install pydantic-ai\n",
    "!pip -q install nest_asyncio\n",
    "!pip -q install devtools"
   ]
  },
  {
   "cell_type": "markdown",
   "metadata": {
    "id": "N2rUPJxt4t-r"
   },
   "source": [
    "### **Restart the notebook**"
   ]
  },
  {
   "cell_type": "code",
   "execution_count": null,
   "metadata": {
    "id": "icRZD-DW8JZf"
   },
   "outputs": [],
   "source": [
    "import os\n",
    "from google.colab import userdata\n",
    "from IPython.display import display, Markdown\n",
    "\n",
    "os.environ[\"OPENAI_API_KEY\"] = userdata.get('OPENAI_API_KEY')\n",
    "os.environ[\"GEMINI_API_KEY\"] = userdata.get('GOOGLE_AI_STUDIO')\n",
    "os.environ[\"GROQ_API_KEY\"] = userdata.get('GROQ_API_KEY')"
   ]
  },
  {
   "cell_type": "code",
   "execution_count": null,
   "metadata": {
    "id": "ZKpEfbHCO0b5"
   },
   "outputs": [],
   "source": [
    "import nest_asyncio\n",
    "nest_asyncio.apply()"
   ]
  },
  {
   "cell_type": "code",
   "execution_count": null,
   "metadata": {
    "colab": {
     "base_uri": "https://localhost:8080/"
    },
    "executionInfo": {
     "elapsed": 834,
     "status": "ok",
     "timestamp": 1733305381764,
     "user": {
      "displayName": "Sam Witteveen",
      "userId": "13451642680591748340"
     },
     "user_tz": -480
    },
    "id": "zdndYtPDNtm4",
    "outputId": "071e44fa-7ff5-4487-eb44-00d41c957fc4"
   },
   "outputs": [],
   "source": [
    "from pydantic_ai import Agent, ModelRetry\n",
    "\n",
    "agent = Agent(\n",
    "    'gemini-1.5-flash',\n",
    "    system_prompt='Be very concise, reply with one sentence only.',\n",
    "    retries=3\n",
    ")\n",
    "\n",
    "result = agent.run_sync('Where does \"hello world\" come from?')\n",
    "print(result.data)"
   ]
  },
  {
   "cell_type": "code",
   "execution_count": null,
   "metadata": {
    "id": "GYGKY5uw92HP"
   },
   "outputs": [],
   "source": [
    "agent.model = 'gemini-1.5-pro'\n",
    "\n",
    "@agent.system_prompt\n",
    "async def get_system_prompt(self) -> str:\n",
    "    return \"Give a long one paragraph answer and make it dense\""
   ]
  },
  {
   "cell_type": "code",
   "execution_count": null,
   "metadata": {
    "colab": {
     "base_uri": "https://localhost:8080/",
     "height": 98
    },
    "executionInfo": {
     "elapsed": 3384,
     "status": "ok",
     "timestamp": 1733305435738,
     "user": {
      "displayName": "Sam Witteveen",
      "userId": "13451642680591748340"
     },
     "user_tz": -480
    },
    "id": "--FZeW3y-BQg",
    "outputId": "604e9e0c-6424-41b3-e589-3d285f7980a7"
   },
   "outputs": [],
   "source": [
    "\n",
    "result = agent.run_sync('Where does \"hello world\" come from?')\n",
    "Markdown(result.data)"
   ]
  },
  {
   "cell_type": "markdown",
   "metadata": {
    "id": "TYmgv0FfPiKw"
   },
   "source": [
    "## Basic structured output"
   ]
  },
  {
   "cell_type": "code",
   "execution_count": null,
   "metadata": {
    "colab": {
     "base_uri": "https://localhost:8080/"
    },
    "executionInfo": {
     "elapsed": 2100,
     "status": "ok",
     "timestamp": 1733305565661,
     "user": {
      "displayName": "Sam Witteveen",
      "userId": "13451642680591748340"
     },
     "user_tz": -480
    },
    "id": "FTMowGQZQq70",
    "outputId": "bf4915e0-5999-4305-e8d2-10a5dad69b22"
   },
   "outputs": [],
   "source": [
    "import os\n",
    "from typing import cast\n",
    "\n",
    "from pydantic import BaseModel\n",
    "\n",
    "from pydantic_ai import Agent\n",
    "from pydantic_ai.models import KnownModelName\n",
    "\n",
    "class MyModel(BaseModel):\n",
    "    city: str\n",
    "    country: str\n",
    "    reason: str\n",
    "    famous_person_from_city: str\n",
    "\n",
    "\n",
    "model = 'openai:gpt-4o'\n",
    "print(f'Using model: {model}')\n",
    "\n",
    "agent = Agent(model, result_type=MyModel)\n",
    "\n",
    "result = agent.run_sync('The windy city in the US of A.')\n",
    "print(result.data)"
   ]
  },
  {
   "cell_type": "code",
   "execution_count": null,
   "metadata": {
    "colab": {
     "base_uri": "https://localhost:8080/"
    },
    "executionInfo": {
     "elapsed": 471,
     "status": "ok",
     "timestamp": 1733305593193,
     "user": {
      "displayName": "Sam Witteveen",
      "userId": "13451642680591748340"
     },
     "user_tz": -480
    },
    "id": "Jl6F_E97VSM7",
    "outputId": "144d503d-d2a2-4894-c78d-7b837429a79d"
   },
   "outputs": [],
   "source": [
    "print(result.cost())"
   ]
  },
  {
   "cell_type": "code",
   "execution_count": null,
   "metadata": {
    "colab": {
     "base_uri": "https://localhost:8080/"
    },
    "executionInfo": {
     "elapsed": 1728,
     "status": "ok",
     "timestamp": 1733305595192,
     "user": {
      "displayName": "Sam Witteveen",
      "userId": "13451642680591748340"
     },
     "user_tz": -480
    },
    "id": "cAYNEqLsVV53",
    "outputId": "91599a9c-27ca-4ab0-b031-ea8ca4620d53"
   },
   "outputs": [],
   "source": [
    "result = agent.run_sync('The Merlion city.')\n",
    "print(result.data)"
   ]
  },
  {
   "cell_type": "code",
   "execution_count": null,
   "metadata": {
    "colab": {
     "base_uri": "https://localhost:8080/"
    },
    "executionInfo": {
     "elapsed": 1238,
     "status": "ok",
     "timestamp": 1733305596429,
     "user": {
      "displayName": "Sam Witteveen",
      "userId": "13451642680591748340"
     },
     "user_tz": -480
    },
    "id": "1PoZr2ozVdVM",
    "outputId": "eb108873-fcf9-4cfd-90aa-d7b514e9c1ea"
   },
   "outputs": [],
   "source": [
    "result = agent.run_sync('The cold city in the south')\n",
    "print(result.data)"
   ]
  },
  {
   "cell_type": "code",
   "execution_count": null,
   "metadata": {
    "colab": {
     "base_uri": "https://localhost:8080/",
     "height": 35
    },
    "executionInfo": {
     "elapsed": 282,
     "status": "ok",
     "timestamp": 1733305659895,
     "user": {
      "displayName": "Sam Witteveen",
      "userId": "13451642680591748340"
     },
     "user_tz": -480
    },
    "id": "08P3XhpWESaq",
    "outputId": "8d458e2c-4183-4ed0-8e53-cd1e18484999"
   },
   "outputs": [],
   "source": [
    "result.data.famous_person_from_city"
   ]
  },
  {
   "cell_type": "code",
   "execution_count": null,
   "metadata": {
    "colab": {
     "base_uri": "https://localhost:8080/"
    },
    "executionInfo": {
     "elapsed": 265,
     "status": "ok",
     "timestamp": 1733305679533,
     "user": {
      "displayName": "Sam Witteveen",
      "userId": "13451642680591748340"
     },
     "user_tz": -480
    },
    "id": "U2ws8XyYBAgZ",
    "outputId": "644d7779-a5e0-4027-e768-03cc74dfdcbe"
   },
   "outputs": [],
   "source": [
    "agent"
   ]
  },
  {
   "cell_type": "markdown",
   "metadata": {
    "id": "0RIfAKkyW7Rl"
   },
   "source": [
    "## Chat APP"
   ]
  },
  {
   "cell_type": "code",
   "execution_count": null,
   "metadata": {
    "id": "YY3Hrk1JZOxg"
   },
   "outputs": [],
   "source": [
    "from pydantic_ai import Agent\n",
    "from pprint import pprint"
   ]
  },
  {
   "cell_type": "code",
   "execution_count": null,
   "metadata": {
    "id": "dzMLp2KgZQX9"
   },
   "outputs": [],
   "source": [
    "agent = Agent('openai:gpt-4o-mini', system_prompt='Be a helpful assistant.')"
   ]
  },
  {
   "cell_type": "code",
   "execution_count": null,
   "metadata": {
    "colab": {
     "base_uri": "https://localhost:8080/"
    },
    "executionInfo": {
     "elapsed": 816,
     "status": "ok",
     "timestamp": 1733305737284,
     "user": {
      "displayName": "Sam Witteveen",
      "userId": "13451642680591748340"
     },
     "user_tz": -480
    },
    "id": "hDe_kFcYZV8b",
    "outputId": "5d2b530b-1e14-45fc-cab0-0dbb97058eb8"
   },
   "outputs": [],
   "source": [
    "result = agent.run_sync('Tell me a joke.')\n",
    "print(result.data)"
   ]
  },
  {
   "cell_type": "code",
   "execution_count": null,
   "metadata": {
    "colab": {
     "base_uri": "https://localhost:8080/"
    },
    "executionInfo": {
     "elapsed": 267,
     "status": "ok",
     "timestamp": 1733305748386,
     "user": {
      "displayName": "Sam Witteveen",
      "userId": "13451642680591748340"
     },
     "user_tz": -480
    },
    "id": "9W8OuRz7Zaoq",
    "outputId": "276b2b54-6fe3-46cd-a230-c56ccee15143"
   },
   "outputs": [],
   "source": [
    "# all messages from the run\n",
    "pprint(result.all_messages())"
   ]
  },
  {
   "cell_type": "code",
   "execution_count": null,
   "metadata": {
    "colab": {
     "base_uri": "https://localhost:8080/"
    },
    "executionInfo": {
     "elapsed": 306,
     "status": "ok",
     "timestamp": 1733305768145,
     "user": {
      "displayName": "Sam Witteveen",
      "userId": "13451642680591748340"
     },
     "user_tz": -480
    },
    "id": "dTl5B22WZeKZ",
    "outputId": "826a2b4e-4a30-4b58-bf35-dd50d9304c6e"
   },
   "outputs": [],
   "source": [
    "type(result.all_messages())"
   ]
  },
  {
   "cell_type": "code",
   "execution_count": null,
   "metadata": {
    "colab": {
     "base_uri": "https://localhost:8080/"
    },
    "executionInfo": {
     "elapsed": 356,
     "status": "ok",
     "timestamp": 1733305779152,
     "user": {
      "displayName": "Sam Witteveen",
      "userId": "13451642680591748340"
     },
     "user_tz": -480
    },
    "id": "n9u0Th2uZ1Zk",
    "outputId": "2f17b08c-6ebc-45a1-9e9b-2719c8b082c0"
   },
   "outputs": [],
   "source": [
    "pprint(result.new_messages())"
   ]
  },
  {
   "cell_type": "code",
   "execution_count": null,
   "metadata": {
    "colab": {
     "base_uri": "https://localhost:8080/"
    },
    "executionInfo": {
     "elapsed": 2623,
     "status": "ok",
     "timestamp": 1733305806186,
     "user": {
      "displayName": "Sam Witteveen",
      "userId": "13451642680591748340"
     },
     "user_tz": -480
    },
    "id": "XohGqNheZeOW",
    "outputId": "9025db26-d4cf-46d3-be54-8db4fe2d472f"
   },
   "outputs": [],
   "source": [
    "result2 = agent.run_sync('Explain it please?', message_history=result.new_messages())\n",
    "print(result2.data)"
   ]
  },
  {
   "cell_type": "code",
   "execution_count": null,
   "metadata": {
    "colab": {
     "base_uri": "https://localhost:8080/"
    },
    "executionInfo": {
     "elapsed": 251,
     "status": "ok",
     "timestamp": 1733305819306,
     "user": {
      "displayName": "Sam Witteveen",
      "userId": "13451642680591748340"
     },
     "user_tz": -480
    },
    "id": "okyFBRBtZ8l7",
    "outputId": "46fc6b15-ebb9-45ff-bce7-8726968c8672"
   },
   "outputs": [],
   "source": [
    "pprint(result2.all_messages())"
   ]
  },
  {
   "cell_type": "code",
   "execution_count": null,
   "metadata": {
    "colab": {
     "base_uri": "https://localhost:8080/"
    },
    "executionInfo": {
     "elapsed": 297,
     "status": "ok",
     "timestamp": 1733305828885,
     "user": {
      "displayName": "Sam Witteveen",
      "userId": "13451642680591748340"
     },
     "user_tz": -480
    },
    "id": "PGfJPUpXXOCy",
    "outputId": "a86fba24-913b-4be3-82ef-a62422da78fc"
   },
   "outputs": [],
   "source": [
    "pprint(result2.new_messages())"
   ]
  },
  {
   "cell_type": "code",
   "execution_count": null,
   "metadata": {
    "colab": {
     "base_uri": "https://localhost:8080/"
    },
    "executionInfo": {
     "elapsed": 12674,
     "status": "ok",
     "timestamp": 1733305852333,
     "user": {
      "displayName": "Sam Witteveen",
      "userId": "13451642680591748340"
     },
     "user_tz": -480
    },
    "id": "25MExpMba0h6",
    "outputId": "c084c0cf-8143-44a5-d1a4-f5c9df3615fc"
   },
   "outputs": [],
   "source": [
    "result3 = agent.run_sync('Where does the joke come from?', message_history=result2.all_messages())\n",
    "print(result3.data)"
   ]
  },
  {
   "cell_type": "code",
   "execution_count": null,
   "metadata": {
    "colab": {
     "base_uri": "https://localhost:8080/"
    },
    "executionInfo": {
     "elapsed": 3,
     "status": "ok",
     "timestamp": 1733305852333,
     "user": {
      "displayName": "Sam Witteveen",
      "userId": "13451642680591748340"
     },
     "user_tz": -480
    },
    "id": "8p1fgt9za-yY",
    "outputId": "2bb03581-4dc2-45ed-bbc7-51325435e1de"
   },
   "outputs": [],
   "source": [
    "pprint(result3.all_messages())"
   ]
  },
  {
   "cell_type": "code",
   "execution_count": null,
   "metadata": {
    "colab": {
     "base_uri": "https://localhost:8080/"
    },
    "executionInfo": {
     "elapsed": 2,
     "status": "ok",
     "timestamp": 1733305852333,
     "user": {
      "displayName": "Sam Witteveen",
      "userId": "13451642680591748340"
     },
     "user_tz": -480
    },
    "id": "LytkNDspbKsW",
    "outputId": "0f0d3e5c-5fdd-417e-ac4d-f596c3600b25"
   },
   "outputs": [],
   "source": [
    "print(result3.all_messages_json())"
   ]
  },
  {
   "cell_type": "markdown",
   "metadata": {
    "id": "54nv6LxtbqFu"
   },
   "source": [
    "## Chatting LLMs"
   ]
  },
  {
   "cell_type": "code",
   "execution_count": null,
   "metadata": {
    "colab": {
     "base_uri": "https://localhost:8080/"
    },
    "executionInfo": {
     "elapsed": 2630,
     "status": "ok",
     "timestamp": 1733305928314,
     "user": {
      "displayName": "Sam Witteveen",
      "userId": "13451642680591748340"
     },
     "user_tz": -480
    },
    "id": "M0K1JKHlbtmv",
    "outputId": "e2a82024-69ae-4014-efaa-5d4c198f07e4"
   },
   "outputs": [],
   "source": [
    "from pydantic_ai import Agent\n",
    "\n",
    "agent = Agent('openai:gpt-4o-mini', system_prompt='Be a helpful assistant.')\n",
    "\n",
    "result1 = agent.run_sync('Tell me a joke.')\n",
    "print(result1.data)\n",
    "\n",
    "result2 = agent.run_sync('Explain?', model='gemini-1.5-pro', message_history=result1.new_messages())\n",
    "print(result2.data)"
   ]
  },
  {
   "cell_type": "code",
   "execution_count": null,
   "metadata": {
    "colab": {
     "base_uri": "https://localhost:8080/"
    },
    "executionInfo": {
     "elapsed": 295,
     "status": "ok",
     "timestamp": 1733305969619,
     "user": {
      "displayName": "Sam Witteveen",
      "userId": "13451642680591748340"
     },
     "user_tz": -480
    },
    "id": "JwMoPdhHb52v",
    "outputId": "700dcb25-bd73-41eb-d148-bdbf32df119a"
   },
   "outputs": [],
   "source": [
    "pprint(result2.all_messages())"
   ]
  },
  {
   "cell_type": "markdown",
   "metadata": {
    "id": "aezrxJNhPm7N"
   },
   "source": [
    "## Weather"
   ]
  },
  {
   "cell_type": "code",
   "execution_count": null,
   "metadata": {
    "id": "9j381AIUPoIx"
   },
   "outputs": [],
   "source": [
    "from __future__ import annotations as _annotations\n",
    "\n",
    "import asyncio\n",
    "import os\n",
    "from dataclasses import dataclass\n",
    "from typing import Any\n",
    "\n",
    "from devtools import debug\n",
    "from httpx import AsyncClient\n",
    "\n",
    "from pydantic_ai import Agent, ModelRetry, RunContext"
   ]
  },
  {
   "cell_type": "code",
   "execution_count": null,
   "metadata": {
    "id": "GTRauCbx3I6e"
   },
   "outputs": [],
   "source": [
    "@dataclass\n",
    "class Deps:\n",
    "    client: AsyncClient\n",
    "    weather_api_key: str | None\n",
    "    geo_api_key: str | None\n"
   ]
  },
  {
   "cell_type": "code",
   "execution_count": null,
   "metadata": {
    "id": "_W7bDs6j3I-g"
   },
   "outputs": [],
   "source": [
    "weather_agent = Agent(\n",
    "    'openai:gpt-4o',\n",
    "    system_prompt='Be concise, reply with one sentence.',\n",
    "    deps_type=Deps,\n",
    "    retries=2,\n",
    ")\n",
    "\n",
    "@weather_agent.tool\n",
    "async def get_lat_lng(\n",
    "    ctx: RunContext[Deps], location_description: str\n",
    ") -> dict[str, float]:\n",
    "    \"\"\"Get the latitude and longitude of a location.\n",
    "\n",
    "    Args:\n",
    "        ctx: The context.\n",
    "        location_description: A description of a location.\n",
    "    \"\"\"\n",
    "    if ctx.deps.geo_api_key is None:\n",
    "        # if no API key is provided, return a dummy response (London)\n",
    "        return {'lat': 51.1, 'lng': -0.1}\n",
    "\n",
    "    params = {\n",
    "        'q': location_description,\n",
    "        'api_key': ctx.deps.geo_api_key,\n",
    "    }\n",
    "    with logfire.span('calling geocode API', params=params) as span:\n",
    "        r = await ctx.deps.client.get('https://geocode.maps.co/search', params=params)\n",
    "        r.raise_for_status()\n",
    "        data = r.json()\n",
    "        span.set_attribute('response', data)\n",
    "\n",
    "    if data:\n",
    "        return {'lat': data[0]['lat'], 'lng': data[0]['lon']}\n",
    "    else:\n",
    "        raise ModelRetry('Could not find the location')\n",
    "\n",
    "\n",
    "@weather_agent.tool\n",
    "async def get_weather(ctx: RunContext[Deps], lat: float, lng: float) -> dict[str, Any]:\n",
    "    \"\"\"Get the weather at a location.\n",
    "\n",
    "    Args:\n",
    "        ctx: The context.\n",
    "        lat: Latitude of the location.\n",
    "        lng: Longitude of the location.\n",
    "    \"\"\"\n",
    "    if ctx.deps.weather_api_key is None:\n",
    "        # if no API key is provided, return a dummy response\n",
    "        return {'temperature': '21 °C', 'description': 'Sunny'}\n",
    "\n",
    "    params = {\n",
    "        'apikey': ctx.deps.weather_api_key,\n",
    "        'location': f'{lat},{lng}',\n",
    "        'units': 'metric',\n",
    "    }\n",
    "    with logfire.span('calling weather API', params=params) as span:\n",
    "        r = await ctx.deps.client.get(\n",
    "            'https://api.tomorrow.io/v4/weather/realtime', params=params\n",
    "        )\n",
    "        r.raise_for_status()\n",
    "        data = r.json()\n",
    "        span.set_attribute('response', data)\n",
    "\n",
    "    values = data['data']['values']\n",
    "    # https://docs.tomorrow.io/reference/data-layers-weather-codes\n",
    "    code_lookup = {\n",
    "        1000: 'Clear, Sunny',\n",
    "        1100: 'Mostly Clear',\n",
    "        1101: 'Partly Cloudy',\n",
    "        1102: 'Mostly Cloudy',\n",
    "        1001: 'Cloudy',\n",
    "        2000: 'Fog',\n",
    "        2100: 'Light Fog',\n",
    "        4000: 'Drizzle',\n",
    "        4001: 'Rain',\n",
    "        4200: 'Light Rain',\n",
    "        4201: 'Heavy Rain',\n",
    "        5000: 'Snow',\n",
    "        5001: 'Flurries',\n",
    "        5100: 'Light Snow',\n",
    "        5101: 'Heavy Snow',\n",
    "        6000: 'Freezing Drizzle',\n",
    "        6001: 'Freezing Rain',\n",
    "        6200: 'Light Freezing Rain',\n",
    "        6201: 'Heavy Freezing Rain',\n",
    "        7000: 'Ice Pellets',\n",
    "        7101: 'Heavy Ice Pellets',\n",
    "        7102: 'Light Ice Pellets',\n",
    "        8000: 'Thunderstorm',\n",
    "    }\n",
    "    return {\n",
    "        'temperature': f'{values[\"temperatureApparent\"]:0.0f}°C',\n",
    "        'description': code_lookup.get(values['weatherCode'], 'Unknown'),\n",
    "    }"
   ]
  },
  {
   "cell_type": "code",
   "execution_count": null,
   "metadata": {
    "id": "qXo3uShp5jsH"
   },
   "outputs": [],
   "source": [
    "async def main():\n",
    "    async with AsyncClient() as client:\n",
    "        # create a free API key at https://www.tomorrow.io/weather-api/\n",
    "        weather_api_key = os.getenv('WEATHER_API_KEY')\n",
    "        # create a free API key at https://geocode.maps.co/\n",
    "        geo_api_key = os.getenv('GEO_API_KEY')\n",
    "        deps = Deps(\n",
    "            client=client, weather_api_key=weather_api_key, geo_api_key=geo_api_key\n",
    "        )\n",
    "        result = await weather_agent.run(\n",
    "            'What is the weather like in London and in Singapore?', deps=deps\n",
    "        )\n",
    "        debug(result)\n",
    "        print('Response:', result.data)"
   ]
  },
  {
   "cell_type": "code",
   "execution_count": null,
   "metadata": {
    "colab": {
     "base_uri": "https://localhost:8080/"
    },
    "executionInfo": {
     "elapsed": 2980,
     "status": "ok",
     "timestamp": 1733306179222,
     "user": {
      "displayName": "Sam Witteveen",
      "userId": "13451642680591748340"
     },
     "user_tz": -480
    },
    "id": "IAkN2NBf3JBw",
    "outputId": "efb65e66-ead8-41a1-b8d7-36ead1332c0a"
   },
   "outputs": [],
   "source": [
    "asyncio.run(main())"
   ]
  },
  {
   "cell_type": "markdown",
   "metadata": {
    "id": "7glzqzKnYsLT"
   },
   "source": [
    "## Streaming MarkDown"
   ]
  },
  {
   "cell_type": "code",
   "execution_count": null,
   "metadata": {
    "colab": {
     "base_uri": "https://localhost:8080/",
     "height": 1000,
     "referenced_widgets": [
      "aa6177341ad6439c96c059e433169420",
      "1329031b2a6c437fae35175f8e7ccbb4",
      "402757fec43049cda25b6063e42f6a67",
      "a398fc2e52c3454fa62275335a742f7c",
      "7bd9e078fe824979b0ac9b930ec77ddd",
      "67b778d4848f4586bce0dfdcbd061345"
     ]
    },
    "executionInfo": {
     "elapsed": 10002,
     "status": "ok",
     "timestamp": 1733306429135,
     "user": {
      "displayName": "Sam Witteveen",
      "userId": "13451642680591748340"
     },
     "user_tz": -480
    },
    "id": "zPeF_VWkPJ0b",
    "outputId": "74b785cf-6912-4eab-c58f-516bb7f497bc"
   },
   "outputs": [],
   "source": [
    "import asyncio\n",
    "import os\n",
    "\n",
    "from rich.console import Console, ConsoleOptions, RenderResult\n",
    "from rich.live import Live\n",
    "from rich.markdown import CodeBlock, Markdown\n",
    "from rich.syntax import Syntax\n",
    "from rich.text import Text\n",
    "\n",
    "from pydantic_ai import Agent\n",
    "from pydantic_ai.models import KnownModelName\n",
    "\n",
    "\n",
    "agent = Agent()\n",
    "\n",
    "# models to try, and the appropriate env var\n",
    "models: list[tuple[KnownModelName, str]] = [\n",
    "    ('gemini-1.5-flash', 'GEMINI_API_KEY'),\n",
    "    ('openai:gpt-4o-mini', 'OPENAI_API_KEY'),\n",
    "    ('groq:llama-3.1-70b-versatile', 'GROQ_API_KEY')\n",
    "]\n",
    "\n",
    "\n",
    "async def main():\n",
    "    prettier_code_blocks()\n",
    "    console = Console()\n",
    "    prompt = 'Show me a short example of using Pydantic.'\n",
    "    console.log(f'Asking: {prompt}...', style='cyan')\n",
    "    for model, env_var in models:\n",
    "        if env_var in os.environ:\n",
    "            console.log(f'Using model: {model}')\n",
    "            with Live('', console=console, vertical_overflow='visible') as live:\n",
    "                async with agent.run_stream(prompt, model=model) as result:\n",
    "                    async for message in result.stream():\n",
    "                        live.update(Markdown(message))\n",
    "            console.log(result.cost())\n",
    "        else:\n",
    "            console.log(f'{model} requires {env_var} to be set.')\n",
    "\n",
    "\n",
    "def prettier_code_blocks():\n",
    "    \"\"\"Make rich code blocks prettier and easier to copy.\n",
    "\n",
    "    From https://github.com/samuelcolvin/aicli/blob/v0.8.0/samuelcolvin_aicli.py#L22\n",
    "    \"\"\"\n",
    "\n",
    "    class SimpleCodeBlock(CodeBlock):\n",
    "        def __rich_console__(\n",
    "            self, console: Console, options: ConsoleOptions\n",
    "        ) -> RenderResult:\n",
    "            code = str(self.text).rstrip()\n",
    "            yield Text(self.lexer_name, style='dim')\n",
    "            yield Syntax(\n",
    "                code,\n",
    "                self.lexer_name,\n",
    "                theme=self.theme,\n",
    "                background_color='black',\n",
    "                word_wrap=True,\n",
    "            )\n",
    "            yield Text(f'/{self.lexer_name}', style='dim')\n",
    "\n",
    "    Markdown.elements['fence'] = SimpleCodeBlock\n",
    "\n",
    "\n",
    "if __name__ == '__main__':\n",
    "    asyncio.run(main())"
   ]
  }
 ],
 "metadata": {
  "colab": {
   "provenance": [
    {
     "file_id": "1nkVWsHSy9i5hU8ZLadYl7VVepqKks2G8",
     "timestamp": 1733697388120
    }
   ]
  },
  "kernelspec": {
   "display_name": "Python 3",
   "name": "python3"
  },
  "language_info": {
   "name": "python"
  },
  "widgets": {
   "application/vnd.jupyter.widget-state+json": {
    "1329031b2a6c437fae35175f8e7ccbb4": {
     "model_module": "@jupyter-widgets/base",
     "model_module_version": "1.2.0",
     "model_name": "LayoutModel",
     "state": {
      "_model_module": "@jupyter-widgets/base",
      "_model_module_version": "1.2.0",
      "_model_name": "LayoutModel",
      "_view_count": null,
      "_view_module": "@jupyter-widgets/base",
      "_view_module_version": "1.2.0",
      "_view_name": "LayoutView",
      "align_content": null,
      "align_items": null,
      "align_self": null,
      "border": null,
      "bottom": null,
      "display": null,
      "flex": null,
      "flex_flow": null,
      "grid_area": null,
      "grid_auto_columns": null,
      "grid_auto_flow": null,
      "grid_auto_rows": null,
      "grid_column": null,
      "grid_gap": null,
      "grid_row": null,
      "grid_template_areas": null,
      "grid_template_columns": null,
      "grid_template_rows": null,
      "height": null,
      "justify_content": null,
      "justify_items": null,
      "left": null,
      "margin": null,
      "max_height": null,
      "max_width": null,
      "min_height": null,
      "min_width": null,
      "object_fit": null,
      "object_position": null,
      "order": null,
      "overflow": null,
      "overflow_x": null,
      "overflow_y": null,
      "padding": null,
      "right": null,
      "top": null,
      "visibility": null,
      "width": null
     }
    },
    "402757fec43049cda25b6063e42f6a67": {
     "model_module": "@jupyter-widgets/output",
     "model_module_version": "1.0.0",
     "model_name": "OutputModel",
     "state": {
      "_dom_classes": [],
      "_model_module": "@jupyter-widgets/output",
      "_model_module_version": "1.0.0",
      "_model_name": "OutputModel",
      "_view_count": null,
      "_view_module": "@jupyter-widgets/output",
      "_view_module_version": "1.0.0",
      "_view_name": "OutputView",
      "layout": "IPY_MODEL_a398fc2e52c3454fa62275335a742f7c",
      "msg_id": "",
      "outputs": [
       {
        "data": {
         "text/html": "<pre style=\"white-space:pre;overflow-x:auto;line-height:normal;font-family:Menlo,'DejaVu Sans Mono',consolas,'Courier New',monospace\">Certainly! Pydantic is a data validation and settings management library for Python that utilizes Python type      \nannotations. It is particularly useful for validating complex data structures, such as those encountered in        \nconfigurations, API responses, or forms.                                                                           \n\nHere's a simple example demonstrating how to define a data model using Pydantic and validate input data:           \n\n<span style=\"color: #7f7f7f; text-decoration-color: #7f7f7f\">python</span>\n<span style=\"color: #ff4689; text-decoration-color: #ff4689; background-color: #000000\">from</span><span style=\"color: #f8f8f2; text-decoration-color: #f8f8f2; background-color: #000000\"> pydantic </span><span style=\"color: #ff4689; text-decoration-color: #ff4689; background-color: #000000\">import</span><span style=\"color: #f8f8f2; text-decoration-color: #f8f8f2; background-color: #000000\"> BaseModel, EmailStr, conint</span><span style=\"background-color: #000000\">                                                                   </span>\n<span style=\"background-color: #000000\">                                                                                                                   </span>\n<span style=\"color: #959077; text-decoration-color: #959077; background-color: #000000\"># Define a Pydantic model</span><span style=\"background-color: #000000\">                                                                                          </span>\n<span style=\"color: #66d9ef; text-decoration-color: #66d9ef; background-color: #000000\">class</span><span style=\"color: #f8f8f2; text-decoration-color: #f8f8f2; background-color: #000000\"> </span><span style=\"color: #a6e22e; text-decoration-color: #a6e22e; background-color: #000000\">User</span><span style=\"color: #f8f8f2; text-decoration-color: #f8f8f2; background-color: #000000\">(BaseModel):</span><span style=\"background-color: #000000\">                                                                                             </span>\n<span style=\"color: #f8f8f2; text-decoration-color: #f8f8f2; background-color: #000000\">    id: conint(ge</span><span style=\"color: #ff4689; text-decoration-color: #ff4689; background-color: #000000\">=</span><span style=\"color: #ae81ff; text-decoration-color: #ae81ff; background-color: #000000\">0</span><span style=\"color: #f8f8f2; text-decoration-color: #f8f8f2; background-color: #000000\">)  </span><span style=\"color: #959077; text-decoration-color: #959077; background-color: #000000\"># id must be a non-negative integer</span><span style=\"background-color: #000000\">                                                          </span>\n<span style=\"color: #f8f8f2; text-decoration-color: #f8f8f2; background-color: #000000\">    name: str</span><span style=\"background-color: #000000\">                                                                                                      </span>\n<span style=\"color: #f8f8f2; text-decoration-color: #f8f8f2; background-color: #000000\">    email: EmailStr  </span><span style=\"color: #959077; text-decoration-color: #959077; background-color: #000000\"># email must be a valid email address</span><span style=\"background-color: #000000\">                                                         </span>\n<span style=\"color: #f8f8f2; text-decoration-color: #f8f8f2; background-color: #000000\">    age: conint(ge</span><span style=\"color: #ff4689; text-decoration-color: #ff4689; background-color: #000000\">=</span><span style=\"color: #ae81ff; text-decoration-color: #ae81ff; background-color: #000000\">18</span><span style=\"color: #f8f8f2; text-decoration-color: #f8f8f2; background-color: #000000\">)  </span><span style=\"color: #959077; text-decoration-color: #959077; background-color: #000000\"># age must be an integer greater than or equal to 18</span><span style=\"background-color: #000000\">                                       </span>\n<span style=\"background-color: #000000\">                                                                                                                   </span>\n<span style=\"color: #959077; text-decoration-color: #959077; background-color: #000000\"># Example input data</span><span style=\"background-color: #000000\">                                                                                               </span>\n<span style=\"color: #f8f8f2; text-decoration-color: #f8f8f2; background-color: #000000\">data </span><span style=\"color: #ff4689; text-decoration-color: #ff4689; background-color: #000000\">=</span><span style=\"color: #f8f8f2; text-decoration-color: #f8f8f2; background-color: #000000\"> {</span><span style=\"background-color: #000000\">                                                                                                           </span>\n<span style=\"color: #f8f8f2; text-decoration-color: #f8f8f2; background-color: #000000\">    </span><span style=\"color: #e6db74; text-decoration-color: #e6db74; background-color: #000000\">\"id\"</span><span style=\"color: #f8f8f2; text-decoration-color: #f8f8f2; background-color: #000000\">: </span><span style=\"color: #ae81ff; text-decoration-color: #ae81ff; background-color: #000000\">1</span><span style=\"color: #f8f8f2; text-decoration-color: #f8f8f2; background-color: #000000\">,</span><span style=\"background-color: #000000\">                                                                                                       </span>\n<span style=\"color: #f8f8f2; text-decoration-color: #f8f8f2; background-color: #000000\">    </span><span style=\"color: #e6db74; text-decoration-color: #e6db74; background-color: #000000\">\"name\"</span><span style=\"color: #f8f8f2; text-decoration-color: #f8f8f2; background-color: #000000\">: </span><span style=\"color: #e6db74; text-decoration-color: #e6db74; background-color: #000000\">\"Alice\"</span><span style=\"color: #f8f8f2; text-decoration-color: #f8f8f2; background-color: #000000\">,</span><span style=\"background-color: #000000\">                                                                                               </span>\n<span style=\"color: #f8f8f2; text-decoration-color: #f8f8f2; background-color: #000000\">    </span><span style=\"color: #e6db74; text-decoration-color: #e6db74; background-color: #000000\">\"email\"</span><span style=\"color: #f8f8f2; text-decoration-color: #f8f8f2; background-color: #000000\">: </span><span style=\"color: #e6db74; text-decoration-color: #e6db74; background-color: #000000\">\"alice@example.com\"</span><span style=\"color: #f8f8f2; text-decoration-color: #f8f8f2; background-color: #000000\">,</span><span style=\"background-color: #000000\">                                                                                  </span>\n<span style=\"color: #f8f8f2; text-decoration-color: #f8f8f2; background-color: #000000\">    </span><span style=\"color: #e6db74; text-decoration-color: #e6db74; background-color: #000000\">\"age\"</span><span style=\"color: #f8f8f2; text-decoration-color: #f8f8f2; background-color: #000000\">: </span><span style=\"color: #ae81ff; text-decoration-color: #ae81ff; background-color: #000000\">25</span><span style=\"background-color: #000000\">                                                                                                      </span>\n<span style=\"color: #f8f8f2; text-decoration-color: #f8f8f2; background-color: #000000\">}</span><span style=\"background-color: #000000\">                                                                                                                  </span>\n<span style=\"background-color: #000000\">                                                                                                                   </span>\n<span style=\"color: #959077; text-decoration-color: #959077; background-color: #000000\"># Create a User instance</span><span style=\"background-color: #000000\">                                                                                           </span>\n<span style=\"color: #f8f8f2; text-decoration-color: #f8f8f2; background-color: #000000\">user </span><span style=\"color: #ff4689; text-decoration-color: #ff4689; background-color: #000000\">=</span><span style=\"color: #f8f8f2; text-decoration-color: #f8f8f2; background-color: #000000\"> User(</span><span style=\"color: #ff4689; text-decoration-color: #ff4689; background-color: #000000\">**</span><span style=\"color: #f8f8f2; text-decoration-color: #f8f8f2; background-color: #000000\">data)</span><span style=\"background-color: #000000\">                                                                                                </span>\n<span style=\"background-color: #000000\">                                                                                                                   </span>\n<span style=\"color: #959077; text-decoration-color: #959077; background-color: #000000\"># Accessing the validated data</span><span style=\"background-color: #000000\">                                                                                     </span>\n<span style=\"color: #f8f8f2; text-decoration-color: #f8f8f2; background-color: #000000\">print(user)</span><span style=\"background-color: #000000\">                                                                                                        </span>\n<span style=\"color: #f8f8f2; text-decoration-color: #f8f8f2; background-color: #000000\">print(user</span><span style=\"color: #ff4689; text-decoration-color: #ff4689; background-color: #000000\">.</span><span style=\"color: #f8f8f2; text-decoration-color: #f8f8f2; background-color: #000000\">name)  </span><span style=\"color: #959077; text-decoration-color: #959077; background-color: #000000\"># Output: Alice</span><span style=\"background-color: #000000\">                                                                                  </span>\n<span style=\"color: #f8f8f2; text-decoration-color: #f8f8f2; background-color: #000000\">print(user</span><span style=\"color: #ff4689; text-decoration-color: #ff4689; background-color: #000000\">.</span><span style=\"color: #f8f8f2; text-decoration-color: #f8f8f2; background-color: #000000\">email)  </span><span style=\"color: #959077; text-decoration-color: #959077; background-color: #000000\"># Output: alice@example.com</span><span style=\"background-color: #000000\">                                                                     </span>\n<span style=\"background-color: #000000\">                                                                                                                   </span>\n<span style=\"color: #959077; text-decoration-color: #959077; background-color: #000000\"># Uncommenting the following line will raise a validation error</span><span style=\"background-color: #000000\">                                                    </span>\n<span style=\"color: #959077; text-decoration-color: #959077; background-color: #000000\"># invalid_user = User(id=-1, name=\"Bob\", email=\"bob@example.com\", age=17)</span><span style=\"background-color: #000000\">                                          </span>\n<span style=\"color: #7f7f7f; text-decoration-color: #7f7f7f\">/python</span>\n\nIn this example, we define a <span style=\"color: #008080; text-decoration-color: #008080; background-color: #000000; font-weight: bold\">User</span> class that inherits from <span style=\"color: #008080; text-decoration-color: #008080; background-color: #000000; font-weight: bold\">BaseModel</span>. The class specifies various fields with their\nexpected types and validation conditions. When we create an instance of <span style=\"color: #008080; text-decoration-color: #008080; background-color: #000000; font-weight: bold\">User</span> with the given data, Pydantic         \nautomatically validates the input. If any of the constraints are violated (e.g.,                                   \n</pre>\n",
         "text/plain": "Certainly! Pydantic is a data validation and settings management library for Python that utilizes Python type      \nannotations. It is particularly useful for validating complex data structures, such as those encountered in        \nconfigurations, API responses, or forms.                                                                           \n\nHere's a simple example demonstrating how to define a data model using Pydantic and validate input data:           \n\n\u001b[2mpython\u001b[0m\n\u001b[38;2;255;70;137;40mfrom\u001b[0m\u001b[38;2;248;248;242;40m \u001b[0m\u001b[38;2;248;248;242;40mpydantic\u001b[0m\u001b[38;2;248;248;242;40m \u001b[0m\u001b[38;2;255;70;137;40mimport\u001b[0m\u001b[38;2;248;248;242;40m \u001b[0m\u001b[38;2;248;248;242;40mBaseModel\u001b[0m\u001b[38;2;248;248;242;40m,\u001b[0m\u001b[38;2;248;248;242;40m \u001b[0m\u001b[38;2;248;248;242;40mEmailStr\u001b[0m\u001b[38;2;248;248;242;40m,\u001b[0m\u001b[38;2;248;248;242;40m \u001b[0m\u001b[38;2;248;248;242;40mconint\u001b[0m\u001b[40m                                                                   \u001b[0m\n\u001b[40m                                                                                                                   \u001b[0m\n\u001b[38;2;149;144;119;40m# Define a Pydantic model\u001b[0m\u001b[40m                                                                                          \u001b[0m\n\u001b[38;2;102;217;239;40mclass\u001b[0m\u001b[38;2;248;248;242;40m \u001b[0m\u001b[38;2;166;226;46;40mUser\u001b[0m\u001b[38;2;248;248;242;40m(\u001b[0m\u001b[38;2;248;248;242;40mBaseModel\u001b[0m\u001b[38;2;248;248;242;40m)\u001b[0m\u001b[38;2;248;248;242;40m:\u001b[0m\u001b[40m                                                                                             \u001b[0m\n\u001b[38;2;248;248;242;40m    \u001b[0m\u001b[38;2;248;248;242;40mid\u001b[0m\u001b[38;2;248;248;242;40m:\u001b[0m\u001b[38;2;248;248;242;40m \u001b[0m\u001b[38;2;248;248;242;40mconint\u001b[0m\u001b[38;2;248;248;242;40m(\u001b[0m\u001b[38;2;248;248;242;40mge\u001b[0m\u001b[38;2;255;70;137;40m=\u001b[0m\u001b[38;2;174;129;255;40m0\u001b[0m\u001b[38;2;248;248;242;40m)\u001b[0m\u001b[38;2;248;248;242;40m  \u001b[0m\u001b[38;2;149;144;119;40m# id must be a non-negative integer\u001b[0m\u001b[40m                                                          \u001b[0m\n\u001b[38;2;248;248;242;40m    \u001b[0m\u001b[38;2;248;248;242;40mname\u001b[0m\u001b[38;2;248;248;242;40m:\u001b[0m\u001b[38;2;248;248;242;40m \u001b[0m\u001b[38;2;248;248;242;40mstr\u001b[0m\u001b[40m                                                                                                      \u001b[0m\n\u001b[38;2;248;248;242;40m    \u001b[0m\u001b[38;2;248;248;242;40memail\u001b[0m\u001b[38;2;248;248;242;40m:\u001b[0m\u001b[38;2;248;248;242;40m \u001b[0m\u001b[38;2;248;248;242;40mEmailStr\u001b[0m\u001b[38;2;248;248;242;40m  \u001b[0m\u001b[38;2;149;144;119;40m# email must be a valid email address\u001b[0m\u001b[40m                                                         \u001b[0m\n\u001b[38;2;248;248;242;40m    \u001b[0m\u001b[38;2;248;248;242;40mage\u001b[0m\u001b[38;2;248;248;242;40m:\u001b[0m\u001b[38;2;248;248;242;40m \u001b[0m\u001b[38;2;248;248;242;40mconint\u001b[0m\u001b[38;2;248;248;242;40m(\u001b[0m\u001b[38;2;248;248;242;40mge\u001b[0m\u001b[38;2;255;70;137;40m=\u001b[0m\u001b[38;2;174;129;255;40m18\u001b[0m\u001b[38;2;248;248;242;40m)\u001b[0m\u001b[38;2;248;248;242;40m  \u001b[0m\u001b[38;2;149;144;119;40m# age must be an integer greater than or equal to 18\u001b[0m\u001b[40m                                       \u001b[0m\n\u001b[40m                                                                                                                   \u001b[0m\n\u001b[38;2;149;144;119;40m# Example input data\u001b[0m\u001b[40m                                                                                               \u001b[0m\n\u001b[38;2;248;248;242;40mdata\u001b[0m\u001b[38;2;248;248;242;40m \u001b[0m\u001b[38;2;255;70;137;40m=\u001b[0m\u001b[38;2;248;248;242;40m \u001b[0m\u001b[38;2;248;248;242;40m{\u001b[0m\u001b[40m                                                                                                           \u001b[0m\n\u001b[38;2;248;248;242;40m    \u001b[0m\u001b[38;2;230;219;116;40m\"\u001b[0m\u001b[38;2;230;219;116;40mid\u001b[0m\u001b[38;2;230;219;116;40m\"\u001b[0m\u001b[38;2;248;248;242;40m:\u001b[0m\u001b[38;2;248;248;242;40m \u001b[0m\u001b[38;2;174;129;255;40m1\u001b[0m\u001b[38;2;248;248;242;40m,\u001b[0m\u001b[40m                                                                                                       \u001b[0m\n\u001b[38;2;248;248;242;40m    \u001b[0m\u001b[38;2;230;219;116;40m\"\u001b[0m\u001b[38;2;230;219;116;40mname\u001b[0m\u001b[38;2;230;219;116;40m\"\u001b[0m\u001b[38;2;248;248;242;40m:\u001b[0m\u001b[38;2;248;248;242;40m \u001b[0m\u001b[38;2;230;219;116;40m\"\u001b[0m\u001b[38;2;230;219;116;40mAlice\u001b[0m\u001b[38;2;230;219;116;40m\"\u001b[0m\u001b[38;2;248;248;242;40m,\u001b[0m\u001b[40m                                                                                               \u001b[0m\n\u001b[38;2;248;248;242;40m    \u001b[0m\u001b[38;2;230;219;116;40m\"\u001b[0m\u001b[38;2;230;219;116;40memail\u001b[0m\u001b[38;2;230;219;116;40m\"\u001b[0m\u001b[38;2;248;248;242;40m:\u001b[0m\u001b[38;2;248;248;242;40m \u001b[0m\u001b[38;2;230;219;116;40m\"\u001b[0m\u001b[38;2;230;219;116;40malice@example.com\u001b[0m\u001b[38;2;230;219;116;40m\"\u001b[0m\u001b[38;2;248;248;242;40m,\u001b[0m\u001b[40m                                                                                  \u001b[0m\n\u001b[38;2;248;248;242;40m    \u001b[0m\u001b[38;2;230;219;116;40m\"\u001b[0m\u001b[38;2;230;219;116;40mage\u001b[0m\u001b[38;2;230;219;116;40m\"\u001b[0m\u001b[38;2;248;248;242;40m:\u001b[0m\u001b[38;2;248;248;242;40m \u001b[0m\u001b[38;2;174;129;255;40m25\u001b[0m\u001b[40m                                                                                                      \u001b[0m\n\u001b[38;2;248;248;242;40m}\u001b[0m\u001b[40m                                                                                                                  \u001b[0m\n\u001b[40m                                                                                                                   \u001b[0m\n\u001b[38;2;149;144;119;40m# Create a User instance\u001b[0m\u001b[40m                                                                                           \u001b[0m\n\u001b[38;2;248;248;242;40muser\u001b[0m\u001b[38;2;248;248;242;40m \u001b[0m\u001b[38;2;255;70;137;40m=\u001b[0m\u001b[38;2;248;248;242;40m \u001b[0m\u001b[38;2;248;248;242;40mUser\u001b[0m\u001b[38;2;248;248;242;40m(\u001b[0m\u001b[38;2;255;70;137;40m*\u001b[0m\u001b[38;2;255;70;137;40m*\u001b[0m\u001b[38;2;248;248;242;40mdata\u001b[0m\u001b[38;2;248;248;242;40m)\u001b[0m\u001b[40m                                                                                                \u001b[0m\n\u001b[40m                                                                                                                   \u001b[0m\n\u001b[38;2;149;144;119;40m# Accessing the validated data\u001b[0m\u001b[40m                                                                                     \u001b[0m\n\u001b[38;2;248;248;242;40mprint\u001b[0m\u001b[38;2;248;248;242;40m(\u001b[0m\u001b[38;2;248;248;242;40muser\u001b[0m\u001b[38;2;248;248;242;40m)\u001b[0m\u001b[40m                                                                                                        \u001b[0m\n\u001b[38;2;248;248;242;40mprint\u001b[0m\u001b[38;2;248;248;242;40m(\u001b[0m\u001b[38;2;248;248;242;40muser\u001b[0m\u001b[38;2;255;70;137;40m.\u001b[0m\u001b[38;2;248;248;242;40mname\u001b[0m\u001b[38;2;248;248;242;40m)\u001b[0m\u001b[38;2;248;248;242;40m  \u001b[0m\u001b[38;2;149;144;119;40m# Output: Alice\u001b[0m\u001b[40m                                                                                  \u001b[0m\n\u001b[38;2;248;248;242;40mprint\u001b[0m\u001b[38;2;248;248;242;40m(\u001b[0m\u001b[38;2;248;248;242;40muser\u001b[0m\u001b[38;2;255;70;137;40m.\u001b[0m\u001b[38;2;248;248;242;40memail\u001b[0m\u001b[38;2;248;248;242;40m)\u001b[0m\u001b[38;2;248;248;242;40m  \u001b[0m\u001b[38;2;149;144;119;40m# Output: alice@example.com\u001b[0m\u001b[40m                                                                     \u001b[0m\n\u001b[40m                                                                                                                   \u001b[0m\n\u001b[38;2;149;144;119;40m# Uncommenting the following line will raise a validation error\u001b[0m\u001b[40m                                                    \u001b[0m\n\u001b[38;2;149;144;119;40m# invalid_user = User(id=-1, name=\"Bob\", email=\"bob@example.com\", age=17)\u001b[0m\u001b[40m                                          \u001b[0m\n\u001b[2m/python\u001b[0m\n\nIn this example, we define a \u001b[1;36;40mUser\u001b[0m class that inherits from \u001b[1;36;40mBaseModel\u001b[0m. The class specifies various fields with their\nexpected types and validation conditions. When we create an instance of \u001b[1;36;40mUser\u001b[0m with the given data, Pydantic         \nautomatically validates the input. If any of the constraints are violated (e.g.,                                   \n"
        },
        "metadata": {},
        "output_type": "display_data"
       }
      ]
     }
    },
    "67b778d4848f4586bce0dfdcbd061345": {
     "model_module": "@jupyter-widgets/base",
     "model_module_version": "1.2.0",
     "model_name": "LayoutModel",
     "state": {
      "_model_module": "@jupyter-widgets/base",
      "_model_module_version": "1.2.0",
      "_model_name": "LayoutModel",
      "_view_count": null,
      "_view_module": "@jupyter-widgets/base",
      "_view_module_version": "1.2.0",
      "_view_name": "LayoutView",
      "align_content": null,
      "align_items": null,
      "align_self": null,
      "border": null,
      "bottom": null,
      "display": null,
      "flex": null,
      "flex_flow": null,
      "grid_area": null,
      "grid_auto_columns": null,
      "grid_auto_flow": null,
      "grid_auto_rows": null,
      "grid_column": null,
      "grid_gap": null,
      "grid_row": null,
      "grid_template_areas": null,
      "grid_template_columns": null,
      "grid_template_rows": null,
      "height": null,
      "justify_content": null,
      "justify_items": null,
      "left": null,
      "margin": null,
      "max_height": null,
      "max_width": null,
      "min_height": null,
      "min_width": null,
      "object_fit": null,
      "object_position": null,
      "order": null,
      "overflow": null,
      "overflow_x": null,
      "overflow_y": null,
      "padding": null,
      "right": null,
      "top": null,
      "visibility": null,
      "width": null
     }
    },
    "7bd9e078fe824979b0ac9b930ec77ddd": {
     "model_module": "@jupyter-widgets/output",
     "model_module_version": "1.0.0",
     "model_name": "OutputModel",
     "state": {
      "_dom_classes": [],
      "_model_module": "@jupyter-widgets/output",
      "_model_module_version": "1.0.0",
      "_model_name": "OutputModel",
      "_view_count": null,
      "_view_module": "@jupyter-widgets/output",
      "_view_module_version": "1.0.0",
      "_view_name": "OutputView",
      "layout": "IPY_MODEL_67b778d4848f4586bce0dfdcbd061345",
      "msg_id": "",
      "outputs": [
       {
        "data": {
         "text/html": "<pre style=\"white-space:pre;overflow-x:auto;line-height:normal;font-family:Menlo,'DejaVu Sans Mono',consolas,'Courier New',monospace\">┏━━━━━━━━━━━━━━━━━━━━━━━━━━━━━━━━━━━━━━━━━━━━━━━━━━━━━━━━━━━━━━━━━━━━━━━━━━━━━━━━━━━━━━━━━━━━━━━━━━━━━━━━━━━━━━━━━┓\n┃                              <span style=\"font-weight: bold\">Using Pydantic for Data Validation and Serialization</span>                               ┃\n┗━━━━━━━━━━━━━━━━━━━━━━━━━━━━━━━━━━━━━━━━━━━━━━━━━━━━━━━━━━━━━━━━━━━━━━━━━━━━━━━━━━━━━━━━━━━━━━━━━━━━━━━━━━━━━━━━━┛\n\nPydantic is a Python library that provides runtime data validation and serialization. Here's a simple example of   \nhow to use it:                                                                                                     \n\n                                                 <span style=\"font-weight: bold\">Install Pydantic</span>                                                  \n\nBefore you start, make sure you have Pydantic installed. You can install it using pip:                             \n\n<span style=\"color: #7f7f7f; text-decoration-color: #7f7f7f\">bash</span>\n<span style=\"color: #f8f8f2; text-decoration-color: #f8f8f2; background-color: #000000\">pip install pydantic</span><span style=\"background-color: #000000\">                                                                                               </span>\n<span style=\"color: #7f7f7f; text-decoration-color: #7f7f7f\">/bash</span>\n\n                                              <span style=\"font-weight: bold\">Define a Pydantic Model</span>                                              \n\n<span style=\"color: #7f7f7f; text-decoration-color: #7f7f7f\">python</span>\n<span style=\"color: #ff4689; text-decoration-color: #ff4689; background-color: #000000\">from</span><span style=\"color: #f8f8f2; text-decoration-color: #f8f8f2; background-color: #000000\"> pydantic </span><span style=\"color: #ff4689; text-decoration-color: #ff4689; background-color: #000000\">import</span><span style=\"color: #f8f8f2; text-decoration-color: #f8f8f2; background-color: #000000\"> BaseModel</span><span style=\"background-color: #000000\">                                                                                     </span>\n<span style=\"background-color: #000000\">                                                                                                                   </span>\n<span style=\"color: #66d9ef; text-decoration-color: #66d9ef; background-color: #000000\">class</span><span style=\"color: #f8f8f2; text-decoration-color: #f8f8f2; background-color: #000000\"> </span><span style=\"color: #a6e22e; text-decoration-color: #a6e22e; background-color: #000000\">User</span><span style=\"color: #f8f8f2; text-decoration-color: #f8f8f2; background-color: #000000\">(BaseModel):</span><span style=\"background-color: #000000\">                                                                                             </span>\n<span style=\"color: #f8f8f2; text-decoration-color: #f8f8f2; background-color: #000000\">    id: int</span><span style=\"background-color: #000000\">                                                                                                        </span>\n<span style=\"color: #f8f8f2; text-decoration-color: #f8f8f2; background-color: #000000\">    name: str</span><span style=\"background-color: #000000\">                                                                                                      </span>\n<span style=\"color: #f8f8f2; text-decoration-color: #f8f8f2; background-color: #000000\">    email: str</span><span style=\"background-color: #000000\">                                                                                                     </span>\n<span style=\"background-color: #000000\">                                                                                                                   </span>\n<span style=\"color: #f8f8f2; text-decoration-color: #f8f8f2; background-color: #000000\">    </span><span style=\"color: #66d9ef; text-decoration-color: #66d9ef; background-color: #000000\">class</span><span style=\"color: #f8f8f2; text-decoration-color: #f8f8f2; background-color: #000000\"> </span><span style=\"color: #a6e22e; text-decoration-color: #a6e22e; background-color: #000000\">Config</span><span style=\"color: #f8f8f2; text-decoration-color: #f8f8f2; background-color: #000000\">:</span><span style=\"background-color: #000000\">                                                                                                  </span>\n<span style=\"color: #f8f8f2; text-decoration-color: #f8f8f2; background-color: #000000\">        schema_extra </span><span style=\"color: #ff4689; text-decoration-color: #ff4689; background-color: #000000\">=</span><span style=\"color: #f8f8f2; text-decoration-color: #f8f8f2; background-color: #000000\"> {</span><span style=\"background-color: #000000\">                                                                                           </span>\n<span style=\"color: #f8f8f2; text-decoration-color: #f8f8f2; background-color: #000000\">            </span><span style=\"color: #e6db74; text-decoration-color: #e6db74; background-color: #000000\">\"example\"</span><span style=\"color: #f8f8f2; text-decoration-color: #f8f8f2; background-color: #000000\">: {</span><span style=\"background-color: #000000\">                                                                                           </span>\n<span style=\"color: #f8f8f2; text-decoration-color: #f8f8f2; background-color: #000000\">                </span><span style=\"color: #e6db74; text-decoration-color: #e6db74; background-color: #000000\">\"id\"</span><span style=\"color: #f8f8f2; text-decoration-color: #f8f8f2; background-color: #000000\">: </span><span style=\"color: #ae81ff; text-decoration-color: #ae81ff; background-color: #000000\">1</span><span style=\"color: #f8f8f2; text-decoration-color: #f8f8f2; background-color: #000000\">,</span><span style=\"background-color: #000000\">                                                                                           </span>\n<span style=\"color: #f8f8f2; text-decoration-color: #f8f8f2; background-color: #000000\">                </span><span style=\"color: #e6db74; text-decoration-color: #e6db74; background-color: #000000\">\"name\"</span><span style=\"color: #f8f8f2; text-decoration-color: #f8f8f2; background-color: #000000\">: </span><span style=\"color: #e6db74; text-decoration-color: #e6db74; background-color: #000000\">\"John Doe\"</span><span style=\"color: #f8f8f2; text-decoration-color: #f8f8f2; background-color: #000000\">,</span><span style=\"background-color: #000000\">                                                                                </span>\n<span style=\"color: #f8f8f2; text-decoration-color: #f8f8f2; background-color: #000000\">                </span><span style=\"color: #e6db74; text-decoration-color: #e6db74; background-color: #000000\">\"email\"</span><span style=\"color: #f8f8f2; text-decoration-color: #f8f8f2; background-color: #000000\">: </span><span style=\"color: #e6db74; text-decoration-color: #e6db74; background-color: #000000\">\"john@example.com\"</span><span style=\"background-color: #000000\">                                                                        </span>\n<span style=\"color: #f8f8f2; text-decoration-color: #f8f8f2; background-color: #000000\">            }</span><span style=\"background-color: #000000\">                                                                                                      </span>\n<span style=\"color: #f8f8f2; text-decoration-color: #f8f8f2; background-color: #000000\">        }</span><span style=\"background-color: #000000\">                                                                                                          </span>\n<span style=\"color: #7f7f7f; text-decoration-color: #7f7f7f\">/python</span>\n\nIn this example, we define a <span style=\"color: #008080; text-decoration-color: #008080; background-color: #000000; font-weight: bold\">User</span> model with three fields: <span style=\"color: #008080; text-decoration-color: #008080; background-color: #000000; font-weight: bold\">id</span>, <span style=\"color: #008080; text-decoration-color: #008080; background-color: #000000; font-weight: bold\">name</span>, and <span style=\"color: #008080; text-decoration-color: #008080; background-color: #000000; font-weight: bold\">email</span>. The <span style=\"color: #008080; text-decoration-color: #008080; background-color: #000000; font-weight: bold\">BaseModel</span> class from Pydantic  \nprovides the basic functionality for data validation and serialization.                                            \n\n                                              <span style=\"font-weight: bold\">Create a User Instance</span>                                               \n\n<span style=\"color: #7f7f7f; text-decoration-color: #7f7f7f\">python</span>\n<span style=\"color: #f8f8f2; text-decoration-color: #f8f8f2; background-color: #000000\">user </span><span style=\"color: #ff4689; text-decoration-color: #ff4689; background-color: #000000\">=</span><span style=\"color: #f8f8f2; text-decoration-color: #f8f8f2; background-color: #000000\"> User(id</span><span style=\"color: #ff4689; text-decoration-color: #ff4689; background-color: #000000\">=</span><span style=\"color: #ae81ff; text-decoration-color: #ae81ff; background-color: #000000\">1</span><span style=\"color: #f8f8f2; text-decoration-color: #f8f8f2; background-color: #000000\">, name</span><span style=\"color: #ff4689; text-decoration-color: #ff4689; background-color: #000000\">=</span><span style=\"color: #e6db74; text-decoration-color: #e6db74; background-color: #000000\">\"John Doe\"</span><span style=\"color: #f8f8f2; text-decoration-color: #f8f8f2; background-color: #000000\">, email</span><span style=\"color: #ff4689; text-decoration-color: #ff4689; background-color: #000000\">=</span><span style=\"color: #e6db74; text-decoration-color: #e6db74; background-color: #000000\">\"john@example.com\"</span><span style=\"color: #f8f8f2; text-decoration-color: #f8f8f2; background-color: #000000\">)</span><span style=\"background-color: #000000\">                                                       </span>\n<span style=\"color: #f8f8f2; text-decoration-color: #f8f8f2; background-color: #000000\">print(user)</span><span style=\"background-color: #000000\">                                                                                                        </span>\n<span style=\"color: #7f7f7f; text-decoration-color: #7f7f7f\">/python</span>\n\nOutput:                                                                                                            \n\n<span style=\"color: #7f7f7f; text-decoration-color: #7f7f7f\">json</span>\n<span style=\"color: #ed007e; text-decoration-color: #ed007e; background-color: #000000\">id=</span><span style=\"color: #ae81ff; text-decoration-color: #ae81ff; background-color: #000000\">1</span><span style=\"color: #f8f8f2; text-decoration-color: #f8f8f2; background-color: #000000\"> </span><span style=\"color: #66d9ef; text-decoration-color: #66d9ef; background-color: #000000\">na</span><span style=\"color: #ed007e; text-decoration-color: #ed007e; background-color: #000000\">me='Joh</span><span style=\"color: #66d9ef; text-decoration-color: #66d9ef; background-color: #000000\">n</span><span style=\"color: #f8f8f2; text-decoration-color: #f8f8f2; background-color: #000000\"> </span><span style=\"color: #ed007e; text-decoration-color: #ed007e; background-color: #000000\">Doe'</span><span style=\"color: #f8f8f2; text-decoration-color: #f8f8f2; background-color: #000000\"> </span><span style=\"color: #ed007e; text-decoration-color: #ed007e; background-color: #000000\">email='joh</span><span style=\"color: #66d9ef; text-decoration-color: #66d9ef; background-color: #000000\">n</span><span style=\"color: #ed007e; text-decoration-color: #ed007e; background-color: #000000\">@example.com'</span><span style=\"background-color: #000000\">                                                                      </span>\n<span style=\"color: #7f7f7f; text-decoration-color: #7f7f7f\">/json</span>\n\n                                                <span style=\"font-weight: bold\">Validate User Data</span>                                                 \n\nPydantic automatically validates the data when you create a new instance of the model. If the data is invalid, it  \nraises a <span style=\"color: #008080; text-decoration-color: #008080; background-color: #000000; font-weight: bold\">ValidationError</span>.                                                                                          \n\n<span style=\"color: #7f7f7f; text-decoration-color: #7f7f7f\">python</span>\n<span style=\"color: #66d9ef; text-decoration-color: #66d9ef; background-color: #000000\">try</span><span style=\"color: #f8f8f2; text-decoration-color: #f8f8f2; background-color: #000000\">:</span><span style=\"background-color: #000000\">                                                                                                               </span>\n<span style=\"color: #f8f8f2; text-decoration-color: #f8f8f2; background-color: #000000\">    invalid_user </span><span style=\"color: #ff4689; text-decoration-color: #ff4689; background-color: #000000\">=</span><span style=\"color: #f8f8f2; text-decoration-color: #f8f8f2; background-color: #000000\"> User(id</span><span style=\"color: #ff4689; text-decoration-color: #ff4689; background-color: #000000\">=</span><span style=\"color: #e6db74; text-decoration-color: #e6db74; background-color: #000000\">\"abc\"</span><span style=\"color: #f8f8f2; text-decoration-color: #f8f8f2; background-color: #000000\">, name</span><span style=\"color: #ff4689; text-decoration-color: #ff4689; background-color: #000000\">=</span><span style=\"color: #e6db74; text-decoration-color: #e6db74; background-color: #000000\">\"John Doe\"</span><span style=\"color: #f8f8f2; text-decoration-color: #f8f8f2; background-color: #000000\">, email</span><span style=\"color: #ff4689; text-decoration-color: #ff4689; background-color: #000000\">=</span><span style=\"color: #e6db74; text-decoration-color: #e6db74; background-color: #000000\">\"john@example.com\"</span><span style=\"color: #f8f8f2; text-decoration-color: #f8f8f2; background-color: #000000\">)</span><span style=\"background-color: #000000\">                                       </span>\n<span style=\"color: #66d9ef; text-decoration-color: #66d9ef; background-color: #000000\">except</span><span style=\"color: #f8f8f2; text-decoration-color: #f8f8f2; background-color: #000000\"> </span><span style=\"color: #a6e22e; text-decoration-color: #a6e22e; background-color: #000000\">Exception</span><span style=\"color: #f8f8f2; text-decoration-color: #f8f8f2; background-color: #000000\"> </span><span style=\"color: #66d9ef; text-decoration-color: #66d9ef; background-color: #000000\">as</span><span style=\"color: #f8f8f2; text-decoration-color: #f8f8f2; background-color: #000000\"> e:</span><span style=\"background-color: #000000\">                                                                                             </span>\n<span style=\"color: #f8f8f2; text-decoration-color: #f8f8f2; background-color: #000000\">    print(e)</span><span style=\"background-color: #000000\">                                                                                                       </span>\n<span style=\"color: #7f7f7f; text-decoration-color: #7f7f7f\">/python</span>\n\nOutput:                                                                                                            \n\n<span style=\"color: #7f7f7f; text-decoration-color: #7f7f7f\">text</span>\n<span style=\"color: #f8f8f2; text-decoration-color: #f8f8f2; background-color: #000000\">1 validation error for User</span><span style=\"background-color: #000000\">                                                                                        </span>\n<span style=\"color: #f8f8f2; text-decoration-color: #f8f8f2; background-color: #000000\">id</span><span style=\"background-color: #000000\">                                                                                                                 </span>\n<span style=\"color: #f8f8f2; text-decoration-color: #f8f8f2; background-color: #000000\">  value is not a valid integer (type=type_error.integer)</span><span style=\"background-color: #000000\">                                                           </span>\n<span style=\"color: #7f7f7f; text-decoration-color: #7f7f7f\">/text</span>\n\n                                            <span style=\"font-weight: bold\">Serialize User Data to JSON</span>                                            \n\nPydantic models can be easily serialized to JSON using the <span style=\"color: #008080; text-decoration-color: #008080; background-color: #000000; font-weight: bold\">json()</span> method.                                          \n\n<span style=\"color: #7f7f7f; text-decoration-color: #7f7f7f\">python</span>\n<span style=\"color: #ff4689; text-decoration-color: #ff4689; background-color: #000000\">import</span><span style=\"color: #f8f8f2; text-decoration-color: #f8f8f2; background-color: #000000\"> json</span><span style=\"background-color: #000000\">                                                                                                        </span>\n<span style=\"background-color: #000000\">                                                                                                                   </span>\n<span style=\"color: #f8f8f2; text-decoration-color: #f8f8f2; background-color: #000000\">user_json </span><span style=\"color: #ff4689; text-decoration-color: #ff4689; background-color: #000000\">=</span><span style=\"color: #f8f8f2; text-decoration-color: #f8f8f2; background-color: #000000\"> user</span><span style=\"color: #ff4689; text-decoration-color: #ff4689; background-color: #000000\">.</span><span style=\"color: #f8f8f2; text-decoration-color: #f8f8f2; background-color: #000000\">json()</span><span style=\"background-color: #000000\">                                                                                            </span>\n<span style=\"color: #f8f8f2; text-decoration-color: #f8f8f2; background-color: #000000\">print(user_json)</span><span style=\"background-color: #000000\">                                                                                                   </span>\n<span style=\"color: #7f7f7f; text-decoration-color: #7f7f7f\">/python</span>\n\nOutput:                                                                                                            \n\n<span style=\"color: #7f7f7f; text-decoration-color: #7f7f7f\">json</span>\n<span style=\"color: #f8f8f2; text-decoration-color: #f8f8f2; background-color: #000000\">{</span><span style=\"color: #ff4689; text-decoration-color: #ff4689; background-color: #000000\">\"id\"</span><span style=\"color: #f8f8f2; text-decoration-color: #f8f8f2; background-color: #000000\">: </span><span style=\"color: #ae81ff; text-decoration-color: #ae81ff; background-color: #000000\">1</span><span style=\"color: #f8f8f2; text-decoration-color: #f8f8f2; background-color: #000000\">, </span><span style=\"color: #ff4689; text-decoration-color: #ff4689; background-color: #000000\">\"name\"</span><span style=\"color: #f8f8f2; text-decoration-color: #f8f8f2; background-color: #000000\">: </span><span style=\"color: #e6db74; text-decoration-color: #e6db74; background-color: #000000\">\"John Doe\"</span><span style=\"color: #f8f8f2; text-decoration-color: #f8f8f2; background-color: #000000\">, </span><span style=\"color: #ff4689; text-decoration-color: #ff4689; background-color: #000000\">\"email\"</span><span style=\"color: #f8f8f2; text-decoration-color: #f8f8f2; background-color: #000000\">: </span><span style=\"color: #e6db74; text-decoration-color: #e6db74; background-color: #000000\">\"john@example.com\"</span><span style=\"color: #f8f8f2; text-decoration-color: #f8f8f2; background-color: #000000\">}</span><span style=\"background-color: #000000\">                                                         </span>\n<span style=\"color: #7f7f7f; text-decoration-color: #7f7f7f\">/json</span>\n\nThis is a basic example of how to use Pydantic for data validation and serialization. Pydantic provides many more  \nfeatures, such as support for nested models, custom validation, and more.                                          \n</pre>\n",
         "text/plain": "┏━━━━━━━━━━━━━━━━━━━━━━━━━━━━━━━━━━━━━━━━━━━━━━━━━━━━━━━━━━━━━━━━━━━━━━━━━━━━━━━━━━━━━━━━━━━━━━━━━━━━━━━━━━━━━━━━━┓\n┃                              \u001b[1mUsing Pydantic for Data Validation and Serialization\u001b[0m                               ┃\n┗━━━━━━━━━━━━━━━━━━━━━━━━━━━━━━━━━━━━━━━━━━━━━━━━━━━━━━━━━━━━━━━━━━━━━━━━━━━━━━━━━━━━━━━━━━━━━━━━━━━━━━━━━━━━━━━━━┛\n\nPydantic is a Python library that provides runtime data validation and serialization. Here's a simple example of   \nhow to use it:                                                                                                     \n\n                                                 \u001b[1mInstall Pydantic\u001b[0m                                                  \n\nBefore you start, make sure you have Pydantic installed. You can install it using pip:                             \n\n\u001b[2mbash\u001b[0m\n\u001b[38;2;248;248;242;40mpip\u001b[0m\u001b[38;2;248;248;242;40m \u001b[0m\u001b[38;2;248;248;242;40minstall\u001b[0m\u001b[38;2;248;248;242;40m \u001b[0m\u001b[38;2;248;248;242;40mpydantic\u001b[0m\u001b[40m                                                                                               \u001b[0m\n\u001b[2m/bash\u001b[0m\n\n                                              \u001b[1mDefine a Pydantic Model\u001b[0m                                              \n\n\u001b[2mpython\u001b[0m\n\u001b[38;2;255;70;137;40mfrom\u001b[0m\u001b[38;2;248;248;242;40m \u001b[0m\u001b[38;2;248;248;242;40mpydantic\u001b[0m\u001b[38;2;248;248;242;40m \u001b[0m\u001b[38;2;255;70;137;40mimport\u001b[0m\u001b[38;2;248;248;242;40m \u001b[0m\u001b[38;2;248;248;242;40mBaseModel\u001b[0m\u001b[40m                                                                                     \u001b[0m\n\u001b[40m                                                                                                                   \u001b[0m\n\u001b[38;2;102;217;239;40mclass\u001b[0m\u001b[38;2;248;248;242;40m \u001b[0m\u001b[38;2;166;226;46;40mUser\u001b[0m\u001b[38;2;248;248;242;40m(\u001b[0m\u001b[38;2;248;248;242;40mBaseModel\u001b[0m\u001b[38;2;248;248;242;40m)\u001b[0m\u001b[38;2;248;248;242;40m:\u001b[0m\u001b[40m                                                                                             \u001b[0m\n\u001b[38;2;248;248;242;40m    \u001b[0m\u001b[38;2;248;248;242;40mid\u001b[0m\u001b[38;2;248;248;242;40m:\u001b[0m\u001b[38;2;248;248;242;40m \u001b[0m\u001b[38;2;248;248;242;40mint\u001b[0m\u001b[40m                                                                                                        \u001b[0m\n\u001b[38;2;248;248;242;40m    \u001b[0m\u001b[38;2;248;248;242;40mname\u001b[0m\u001b[38;2;248;248;242;40m:\u001b[0m\u001b[38;2;248;248;242;40m \u001b[0m\u001b[38;2;248;248;242;40mstr\u001b[0m\u001b[40m                                                                                                      \u001b[0m\n\u001b[38;2;248;248;242;40m    \u001b[0m\u001b[38;2;248;248;242;40memail\u001b[0m\u001b[38;2;248;248;242;40m:\u001b[0m\u001b[38;2;248;248;242;40m \u001b[0m\u001b[38;2;248;248;242;40mstr\u001b[0m\u001b[40m                                                                                                     \u001b[0m\n\u001b[40m                                                                                                                   \u001b[0m\n\u001b[38;2;248;248;242;40m    \u001b[0m\u001b[38;2;102;217;239;40mclass\u001b[0m\u001b[38;2;248;248;242;40m \u001b[0m\u001b[38;2;166;226;46;40mConfig\u001b[0m\u001b[38;2;248;248;242;40m:\u001b[0m\u001b[40m                                                                                                  \u001b[0m\n\u001b[38;2;248;248;242;40m        \u001b[0m\u001b[38;2;248;248;242;40mschema_extra\u001b[0m\u001b[38;2;248;248;242;40m \u001b[0m\u001b[38;2;255;70;137;40m=\u001b[0m\u001b[38;2;248;248;242;40m \u001b[0m\u001b[38;2;248;248;242;40m{\u001b[0m\u001b[40m                                                                                           \u001b[0m\n\u001b[38;2;248;248;242;40m            \u001b[0m\u001b[38;2;230;219;116;40m\"\u001b[0m\u001b[38;2;230;219;116;40mexample\u001b[0m\u001b[38;2;230;219;116;40m\"\u001b[0m\u001b[38;2;248;248;242;40m:\u001b[0m\u001b[38;2;248;248;242;40m \u001b[0m\u001b[38;2;248;248;242;40m{\u001b[0m\u001b[40m                                                                                           \u001b[0m\n\u001b[38;2;248;248;242;40m                \u001b[0m\u001b[38;2;230;219;116;40m\"\u001b[0m\u001b[38;2;230;219;116;40mid\u001b[0m\u001b[38;2;230;219;116;40m\"\u001b[0m\u001b[38;2;248;248;242;40m:\u001b[0m\u001b[38;2;248;248;242;40m \u001b[0m\u001b[38;2;174;129;255;40m1\u001b[0m\u001b[38;2;248;248;242;40m,\u001b[0m\u001b[40m                                                                                           \u001b[0m\n\u001b[38;2;248;248;242;40m                \u001b[0m\u001b[38;2;230;219;116;40m\"\u001b[0m\u001b[38;2;230;219;116;40mname\u001b[0m\u001b[38;2;230;219;116;40m\"\u001b[0m\u001b[38;2;248;248;242;40m:\u001b[0m\u001b[38;2;248;248;242;40m \u001b[0m\u001b[38;2;230;219;116;40m\"\u001b[0m\u001b[38;2;230;219;116;40mJohn Doe\u001b[0m\u001b[38;2;230;219;116;40m\"\u001b[0m\u001b[38;2;248;248;242;40m,\u001b[0m\u001b[40m                                                                                \u001b[0m\n\u001b[38;2;248;248;242;40m                \u001b[0m\u001b[38;2;230;219;116;40m\"\u001b[0m\u001b[38;2;230;219;116;40memail\u001b[0m\u001b[38;2;230;219;116;40m\"\u001b[0m\u001b[38;2;248;248;242;40m:\u001b[0m\u001b[38;2;248;248;242;40m \u001b[0m\u001b[38;2;230;219;116;40m\"\u001b[0m\u001b[38;2;230;219;116;40mjohn@example.com\u001b[0m\u001b[38;2;230;219;116;40m\"\u001b[0m\u001b[40m                                                                        \u001b[0m\n\u001b[38;2;248;248;242;40m            \u001b[0m\u001b[38;2;248;248;242;40m}\u001b[0m\u001b[40m                                                                                                      \u001b[0m\n\u001b[38;2;248;248;242;40m        \u001b[0m\u001b[38;2;248;248;242;40m}\u001b[0m\u001b[40m                                                                                                          \u001b[0m\n\u001b[2m/python\u001b[0m\n\nIn this example, we define a \u001b[1;36;40mUser\u001b[0m model with three fields: \u001b[1;36;40mid\u001b[0m, \u001b[1;36;40mname\u001b[0m, and \u001b[1;36;40memail\u001b[0m. The \u001b[1;36;40mBaseModel\u001b[0m class from Pydantic  \nprovides the basic functionality for data validation and serialization.                                            \n\n                                              \u001b[1mCreate a User Instance\u001b[0m                                               \n\n\u001b[2mpython\u001b[0m\n\u001b[38;2;248;248;242;40muser\u001b[0m\u001b[38;2;248;248;242;40m \u001b[0m\u001b[38;2;255;70;137;40m=\u001b[0m\u001b[38;2;248;248;242;40m \u001b[0m\u001b[38;2;248;248;242;40mUser\u001b[0m\u001b[38;2;248;248;242;40m(\u001b[0m\u001b[38;2;248;248;242;40mid\u001b[0m\u001b[38;2;255;70;137;40m=\u001b[0m\u001b[38;2;174;129;255;40m1\u001b[0m\u001b[38;2;248;248;242;40m,\u001b[0m\u001b[38;2;248;248;242;40m \u001b[0m\u001b[38;2;248;248;242;40mname\u001b[0m\u001b[38;2;255;70;137;40m=\u001b[0m\u001b[38;2;230;219;116;40m\"\u001b[0m\u001b[38;2;230;219;116;40mJohn Doe\u001b[0m\u001b[38;2;230;219;116;40m\"\u001b[0m\u001b[38;2;248;248;242;40m,\u001b[0m\u001b[38;2;248;248;242;40m \u001b[0m\u001b[38;2;248;248;242;40memail\u001b[0m\u001b[38;2;255;70;137;40m=\u001b[0m\u001b[38;2;230;219;116;40m\"\u001b[0m\u001b[38;2;230;219;116;40mjohn@example.com\u001b[0m\u001b[38;2;230;219;116;40m\"\u001b[0m\u001b[38;2;248;248;242;40m)\u001b[0m\u001b[40m                                                       \u001b[0m\n\u001b[38;2;248;248;242;40mprint\u001b[0m\u001b[38;2;248;248;242;40m(\u001b[0m\u001b[38;2;248;248;242;40muser\u001b[0m\u001b[38;2;248;248;242;40m)\u001b[0m\u001b[40m                                                                                                        \u001b[0m\n\u001b[2m/python\u001b[0m\n\nOutput:                                                                                                            \n\n\u001b[2mjson\u001b[0m\n\u001b[38;2;237;0;126;40mi\u001b[0m\u001b[38;2;237;0;126;40md\u001b[0m\u001b[38;2;237;0;126;40m=\u001b[0m\u001b[38;2;174;129;255;40m1\u001b[0m\u001b[38;2;248;248;242;40m \u001b[0m\u001b[38;2;102;217;239;40mna\u001b[0m\u001b[38;2;237;0;126;40mm\u001b[0m\u001b[38;2;237;0;126;40me\u001b[0m\u001b[38;2;237;0;126;40m=\u001b[0m\u001b[38;2;237;0;126;40m'\u001b[0m\u001b[38;2;237;0;126;40mJ\u001b[0m\u001b[38;2;237;0;126;40mo\u001b[0m\u001b[38;2;237;0;126;40mh\u001b[0m\u001b[38;2;102;217;239;40mn\u001b[0m\u001b[38;2;248;248;242;40m \u001b[0m\u001b[38;2;237;0;126;40mD\u001b[0m\u001b[38;2;237;0;126;40mo\u001b[0m\u001b[38;2;237;0;126;40me\u001b[0m\u001b[38;2;237;0;126;40m'\u001b[0m\u001b[38;2;248;248;242;40m \u001b[0m\u001b[38;2;237;0;126;40me\u001b[0m\u001b[38;2;237;0;126;40mm\u001b[0m\u001b[38;2;237;0;126;40ma\u001b[0m\u001b[38;2;237;0;126;40mi\u001b[0m\u001b[38;2;237;0;126;40ml\u001b[0m\u001b[38;2;237;0;126;40m=\u001b[0m\u001b[38;2;237;0;126;40m'\u001b[0m\u001b[38;2;237;0;126;40mj\u001b[0m\u001b[38;2;237;0;126;40mo\u001b[0m\u001b[38;2;237;0;126;40mh\u001b[0m\u001b[38;2;102;217;239;40mn\u001b[0m\u001b[38;2;237;0;126;40m@\u001b[0m\u001b[38;2;237;0;126;40me\u001b[0m\u001b[38;2;237;0;126;40mx\u001b[0m\u001b[38;2;237;0;126;40ma\u001b[0m\u001b[38;2;237;0;126;40mm\u001b[0m\u001b[38;2;237;0;126;40mp\u001b[0m\u001b[38;2;237;0;126;40ml\u001b[0m\u001b[38;2;237;0;126;40me\u001b[0m\u001b[38;2;237;0;126;40m.\u001b[0m\u001b[38;2;237;0;126;40mc\u001b[0m\u001b[38;2;237;0;126;40mo\u001b[0m\u001b[38;2;237;0;126;40mm\u001b[0m\u001b[38;2;237;0;126;40m'\u001b[0m\u001b[40m                                                                      \u001b[0m\n\u001b[2m/json\u001b[0m\n\n                                                \u001b[1mValidate User Data\u001b[0m                                                 \n\nPydantic automatically validates the data when you create a new instance of the model. If the data is invalid, it  \nraises a \u001b[1;36;40mValidationError\u001b[0m.                                                                                          \n\n\u001b[2mpython\u001b[0m\n\u001b[38;2;102;217;239;40mtry\u001b[0m\u001b[38;2;248;248;242;40m:\u001b[0m\u001b[40m                                                                                                               \u001b[0m\n\u001b[38;2;248;248;242;40m    \u001b[0m\u001b[38;2;248;248;242;40minvalid_user\u001b[0m\u001b[38;2;248;248;242;40m \u001b[0m\u001b[38;2;255;70;137;40m=\u001b[0m\u001b[38;2;248;248;242;40m \u001b[0m\u001b[38;2;248;248;242;40mUser\u001b[0m\u001b[38;2;248;248;242;40m(\u001b[0m\u001b[38;2;248;248;242;40mid\u001b[0m\u001b[38;2;255;70;137;40m=\u001b[0m\u001b[38;2;230;219;116;40m\"\u001b[0m\u001b[38;2;230;219;116;40mabc\u001b[0m\u001b[38;2;230;219;116;40m\"\u001b[0m\u001b[38;2;248;248;242;40m,\u001b[0m\u001b[38;2;248;248;242;40m \u001b[0m\u001b[38;2;248;248;242;40mname\u001b[0m\u001b[38;2;255;70;137;40m=\u001b[0m\u001b[38;2;230;219;116;40m\"\u001b[0m\u001b[38;2;230;219;116;40mJohn Doe\u001b[0m\u001b[38;2;230;219;116;40m\"\u001b[0m\u001b[38;2;248;248;242;40m,\u001b[0m\u001b[38;2;248;248;242;40m \u001b[0m\u001b[38;2;248;248;242;40memail\u001b[0m\u001b[38;2;255;70;137;40m=\u001b[0m\u001b[38;2;230;219;116;40m\"\u001b[0m\u001b[38;2;230;219;116;40mjohn@example.com\u001b[0m\u001b[38;2;230;219;116;40m\"\u001b[0m\u001b[38;2;248;248;242;40m)\u001b[0m\u001b[40m                                       \u001b[0m\n\u001b[38;2;102;217;239;40mexcept\u001b[0m\u001b[38;2;248;248;242;40m \u001b[0m\u001b[38;2;166;226;46;40mException\u001b[0m\u001b[38;2;248;248;242;40m \u001b[0m\u001b[38;2;102;217;239;40mas\u001b[0m\u001b[38;2;248;248;242;40m \u001b[0m\u001b[38;2;248;248;242;40me\u001b[0m\u001b[38;2;248;248;242;40m:\u001b[0m\u001b[40m                                                                                             \u001b[0m\n\u001b[38;2;248;248;242;40m    \u001b[0m\u001b[38;2;248;248;242;40mprint\u001b[0m\u001b[38;2;248;248;242;40m(\u001b[0m\u001b[38;2;248;248;242;40me\u001b[0m\u001b[38;2;248;248;242;40m)\u001b[0m\u001b[40m                                                                                                       \u001b[0m\n\u001b[2m/python\u001b[0m\n\nOutput:                                                                                                            \n\n\u001b[2mtext\u001b[0m\n\u001b[38;2;248;248;242;40m1 validation error for User\u001b[0m\u001b[40m                                                                                        \u001b[0m\n\u001b[38;2;248;248;242;40mid\u001b[0m\u001b[40m                                                                                                                 \u001b[0m\n\u001b[38;2;248;248;242;40m  value is not a valid integer (type=type_error.integer)\u001b[0m\u001b[40m                                                           \u001b[0m\n\u001b[2m/text\u001b[0m\n\n                                            \u001b[1mSerialize User Data to JSON\u001b[0m                                            \n\nPydantic models can be easily serialized to JSON using the \u001b[1;36;40mjson()\u001b[0m method.                                          \n\n\u001b[2mpython\u001b[0m\n\u001b[38;2;255;70;137;40mimport\u001b[0m\u001b[38;2;248;248;242;40m \u001b[0m\u001b[38;2;248;248;242;40mjson\u001b[0m\u001b[40m                                                                                                        \u001b[0m\n\u001b[40m                                                                                                                   \u001b[0m\n\u001b[38;2;248;248;242;40muser_json\u001b[0m\u001b[38;2;248;248;242;40m \u001b[0m\u001b[38;2;255;70;137;40m=\u001b[0m\u001b[38;2;248;248;242;40m \u001b[0m\u001b[38;2;248;248;242;40muser\u001b[0m\u001b[38;2;255;70;137;40m.\u001b[0m\u001b[38;2;248;248;242;40mjson\u001b[0m\u001b[38;2;248;248;242;40m(\u001b[0m\u001b[38;2;248;248;242;40m)\u001b[0m\u001b[40m                                                                                            \u001b[0m\n\u001b[38;2;248;248;242;40mprint\u001b[0m\u001b[38;2;248;248;242;40m(\u001b[0m\u001b[38;2;248;248;242;40muser_json\u001b[0m\u001b[38;2;248;248;242;40m)\u001b[0m\u001b[40m                                                                                                   \u001b[0m\n\u001b[2m/python\u001b[0m\n\nOutput:                                                                                                            \n\n\u001b[2mjson\u001b[0m\n\u001b[38;2;248;248;242;40m{\u001b[0m\u001b[38;2;255;70;137;40m\"id\"\u001b[0m\u001b[38;2;248;248;242;40m:\u001b[0m\u001b[38;2;248;248;242;40m \u001b[0m\u001b[38;2;174;129;255;40m1\u001b[0m\u001b[38;2;248;248;242;40m,\u001b[0m\u001b[38;2;248;248;242;40m \u001b[0m\u001b[38;2;255;70;137;40m\"name\"\u001b[0m\u001b[38;2;248;248;242;40m:\u001b[0m\u001b[38;2;248;248;242;40m \u001b[0m\u001b[38;2;230;219;116;40m\"John Doe\"\u001b[0m\u001b[38;2;248;248;242;40m,\u001b[0m\u001b[38;2;248;248;242;40m \u001b[0m\u001b[38;2;255;70;137;40m\"email\"\u001b[0m\u001b[38;2;248;248;242;40m:\u001b[0m\u001b[38;2;248;248;242;40m \u001b[0m\u001b[38;2;230;219;116;40m\"john@example.com\"\u001b[0m\u001b[38;2;248;248;242;40m}\u001b[0m\u001b[40m                                                         \u001b[0m\n\u001b[2m/json\u001b[0m\n\nThis is a basic example of how to use Pydantic for data validation and serialization. Pydantic provides many more  \nfeatures, such as support for nested models, custom validation, and more.                                          \n"
        },
        "metadata": {},
        "output_type": "display_data"
       }
      ]
     }
    },
    "a398fc2e52c3454fa62275335a742f7c": {
     "model_module": "@jupyter-widgets/base",
     "model_module_version": "1.2.0",
     "model_name": "LayoutModel",
     "state": {
      "_model_module": "@jupyter-widgets/base",
      "_model_module_version": "1.2.0",
      "_model_name": "LayoutModel",
      "_view_count": null,
      "_view_module": "@jupyter-widgets/base",
      "_view_module_version": "1.2.0",
      "_view_name": "LayoutView",
      "align_content": null,
      "align_items": null,
      "align_self": null,
      "border": null,
      "bottom": null,
      "display": null,
      "flex": null,
      "flex_flow": null,
      "grid_area": null,
      "grid_auto_columns": null,
      "grid_auto_flow": null,
      "grid_auto_rows": null,
      "grid_column": null,
      "grid_gap": null,
      "grid_row": null,
      "grid_template_areas": null,
      "grid_template_columns": null,
      "grid_template_rows": null,
      "height": null,
      "justify_content": null,
      "justify_items": null,
      "left": null,
      "margin": null,
      "max_height": null,
      "max_width": null,
      "min_height": null,
      "min_width": null,
      "object_fit": null,
      "object_position": null,
      "order": null,
      "overflow": null,
      "overflow_x": null,
      "overflow_y": null,
      "padding": null,
      "right": null,
      "top": null,
      "visibility": null,
      "width": null
     }
    },
    "aa6177341ad6439c96c059e433169420": {
     "model_module": "@jupyter-widgets/output",
     "model_module_version": "1.0.0",
     "model_name": "OutputModel",
     "state": {
      "_dom_classes": [],
      "_model_module": "@jupyter-widgets/output",
      "_model_module_version": "1.0.0",
      "_model_name": "OutputModel",
      "_view_count": null,
      "_view_module": "@jupyter-widgets/output",
      "_view_module_version": "1.0.0",
      "_view_name": "OutputView",
      "layout": "IPY_MODEL_1329031b2a6c437fae35175f8e7ccbb4",
      "msg_id": "",
      "outputs": [
       {
        "data": {
         "text/html": "<pre style=\"white-space:pre;overflow-x:auto;line-height:normal;font-family:Menlo,'DejaVu Sans Mono',consolas,'Courier New',monospace\">This example demonstrates a simple Pydantic model for a user, validating input data and providing type hints:      \n\n<span style=\"color: #7f7f7f; text-decoration-color: #7f7f7f\">python</span>\n<span style=\"color: #ff4689; text-decoration-color: #ff4689; background-color: #000000\">from</span><span style=\"color: #f8f8f2; text-decoration-color: #f8f8f2; background-color: #000000\"> pydantic </span><span style=\"color: #ff4689; text-decoration-color: #ff4689; background-color: #000000\">import</span><span style=\"color: #f8f8f2; text-decoration-color: #f8f8f2; background-color: #000000\"> BaseModel, ValidationError</span><span style=\"background-color: #000000\">                                                                    </span>\n<span style=\"background-color: #000000\">                                                                                                                   </span>\n<span style=\"color: #66d9ef; text-decoration-color: #66d9ef; background-color: #000000\">class</span><span style=\"color: #f8f8f2; text-decoration-color: #f8f8f2; background-color: #000000\"> </span><span style=\"color: #a6e22e; text-decoration-color: #a6e22e; background-color: #000000\">User</span><span style=\"color: #f8f8f2; text-decoration-color: #f8f8f2; background-color: #000000\">(BaseModel):</span><span style=\"background-color: #000000\">                                                                                             </span>\n<span style=\"color: #f8f8f2; text-decoration-color: #f8f8f2; background-color: #000000\">    id: int</span><span style=\"background-color: #000000\">                                                                                                        </span>\n<span style=\"color: #f8f8f2; text-decoration-color: #f8f8f2; background-color: #000000\">    name: str</span><span style=\"background-color: #000000\">                                                                                                      </span>\n<span style=\"color: #f8f8f2; text-decoration-color: #f8f8f2; background-color: #000000\">    signup_ts: float </span><span style=\"color: #ff4689; text-decoration-color: #ff4689; background-color: #000000\">|</span><span style=\"color: #f8f8f2; text-decoration-color: #f8f8f2; background-color: #000000\"> </span><span style=\"color: #66d9ef; text-decoration-color: #66d9ef; background-color: #000000\">None</span><span style=\"color: #f8f8f2; text-decoration-color: #f8f8f2; background-color: #000000\"> </span><span style=\"color: #ff4689; text-decoration-color: #ff4689; background-color: #000000\">=</span><span style=\"color: #f8f8f2; text-decoration-color: #f8f8f2; background-color: #000000\"> </span><span style=\"color: #66d9ef; text-decoration-color: #66d9ef; background-color: #000000\">None</span><span style=\"background-color: #000000\">                                                                                 </span>\n<span style=\"background-color: #000000\">                                                                                                                   </span>\n<span style=\"color: #959077; text-decoration-color: #959077; background-color: #000000\"># Valid data</span><span style=\"background-color: #000000\">                                                                                                       </span>\n<span style=\"color: #f8f8f2; text-decoration-color: #f8f8f2; background-color: #000000\">valid_user_data </span><span style=\"color: #ff4689; text-decoration-color: #ff4689; background-color: #000000\">=</span><span style=\"color: #f8f8f2; text-decoration-color: #f8f8f2; background-color: #000000\"> {</span><span style=\"background-color: #000000\">                                                                                                </span>\n<span style=\"color: #f8f8f2; text-decoration-color: #f8f8f2; background-color: #000000\">    </span><span style=\"color: #e6db74; text-decoration-color: #e6db74; background-color: #000000\">\"id\"</span><span style=\"color: #f8f8f2; text-decoration-color: #f8f8f2; background-color: #000000\">: </span><span style=\"color: #ae81ff; text-decoration-color: #ae81ff; background-color: #000000\">123</span><span style=\"color: #f8f8f2; text-decoration-color: #f8f8f2; background-color: #000000\">,</span><span style=\"background-color: #000000\">                                                                                                     </span>\n<span style=\"color: #f8f8f2; text-decoration-color: #f8f8f2; background-color: #000000\">    </span><span style=\"color: #e6db74; text-decoration-color: #e6db74; background-color: #000000\">\"name\"</span><span style=\"color: #f8f8f2; text-decoration-color: #f8f8f2; background-color: #000000\">: </span><span style=\"color: #e6db74; text-decoration-color: #e6db74; background-color: #000000\">\"John Doe\"</span><span style=\"color: #f8f8f2; text-decoration-color: #f8f8f2; background-color: #000000\">,</span><span style=\"background-color: #000000\">                                                                                            </span>\n<span style=\"color: #f8f8f2; text-decoration-color: #f8f8f2; background-color: #000000\">    </span><span style=\"color: #e6db74; text-decoration-color: #e6db74; background-color: #000000\">\"signup_ts\"</span><span style=\"color: #f8f8f2; text-decoration-color: #f8f8f2; background-color: #000000\">: </span><span style=\"color: #ae81ff; text-decoration-color: #ae81ff; background-color: #000000\">1678886400.0</span><span style=\"color: #f8f8f2; text-decoration-color: #f8f8f2; background-color: #000000\">  </span><span style=\"color: #959077; text-decoration-color: #959077; background-color: #000000\"># Example timestamp</span><span style=\"background-color: #000000\">                                                                 </span>\n<span style=\"color: #f8f8f2; text-decoration-color: #f8f8f2; background-color: #000000\">}</span><span style=\"background-color: #000000\">                                                                                                                  </span>\n<span style=\"background-color: #000000\">                                                                                                                   </span>\n<span style=\"color: #66d9ef; text-decoration-color: #66d9ef; background-color: #000000\">try</span><span style=\"color: #f8f8f2; text-decoration-color: #f8f8f2; background-color: #000000\">:</span><span style=\"background-color: #000000\">                                                                                                               </span>\n<span style=\"color: #f8f8f2; text-decoration-color: #f8f8f2; background-color: #000000\">    user </span><span style=\"color: #ff4689; text-decoration-color: #ff4689; background-color: #000000\">=</span><span style=\"color: #f8f8f2; text-decoration-color: #f8f8f2; background-color: #000000\"> User(</span><span style=\"color: #ff4689; text-decoration-color: #ff4689; background-color: #000000\">**</span><span style=\"color: #f8f8f2; text-decoration-color: #f8f8f2; background-color: #000000\">valid_user_data)</span><span style=\"background-color: #000000\">                                                                                 </span>\n<span style=\"color: #f8f8f2; text-decoration-color: #f8f8f2; background-color: #000000\">    print(user)  </span><span style=\"color: #959077; text-decoration-color: #959077; background-color: #000000\"># Output: id=123 name='John Doe' signup_ts=1678886400.0</span><span style=\"background-color: #000000\">                                           </span>\n<span style=\"color: #f8f8f2; text-decoration-color: #f8f8f2; background-color: #000000\">    print(user</span><span style=\"color: #ff4689; text-decoration-color: #ff4689; background-color: #000000\">.</span><span style=\"color: #f8f8f2; text-decoration-color: #f8f8f2; background-color: #000000\">dict()) </span><span style=\"color: #959077; text-decoration-color: #959077; background-color: #000000\"># Output: {'id': 123, 'name': 'John Doe', 'signup_ts': 1678886400.0}</span><span style=\"background-color: #000000\">                        </span>\n<span style=\"color: #66d9ef; text-decoration-color: #66d9ef; background-color: #000000\">except</span><span style=\"color: #f8f8f2; text-decoration-color: #f8f8f2; background-color: #000000\"> ValidationError </span><span style=\"color: #66d9ef; text-decoration-color: #66d9ef; background-color: #000000\">as</span><span style=\"color: #f8f8f2; text-decoration-color: #f8f8f2; background-color: #000000\"> e:</span><span style=\"background-color: #000000\">                                                                                       </span>\n<span style=\"color: #f8f8f2; text-decoration-color: #f8f8f2; background-color: #000000\">    print(e)</span><span style=\"background-color: #000000\">                                                                                                       </span>\n<span style=\"background-color: #000000\">                                                                                                                   </span>\n<span style=\"color: #959077; text-decoration-color: #959077; background-color: #000000\"># Invalid data - missing required field</span><span style=\"background-color: #000000\">                                                                            </span>\n<span style=\"color: #f8f8f2; text-decoration-color: #f8f8f2; background-color: #000000\">invalid_user_data </span><span style=\"color: #ff4689; text-decoration-color: #ff4689; background-color: #000000\">=</span><span style=\"color: #f8f8f2; text-decoration-color: #f8f8f2; background-color: #000000\"> {</span><span style=\"background-color: #000000\">                                                                                              </span>\n<span style=\"color: #f8f8f2; text-decoration-color: #f8f8f2; background-color: #000000\">    </span><span style=\"color: #e6db74; text-decoration-color: #e6db74; background-color: #000000\">\"name\"</span><span style=\"color: #f8f8f2; text-decoration-color: #f8f8f2; background-color: #000000\">: </span><span style=\"color: #e6db74; text-decoration-color: #e6db74; background-color: #000000\">\"Jane Doe\"</span><span style=\"background-color: #000000\">                                                                                             </span>\n<span style=\"color: #f8f8f2; text-decoration-color: #f8f8f2; background-color: #000000\">}</span><span style=\"background-color: #000000\">                                                                                                                  </span>\n<span style=\"background-color: #000000\">                                                                                                                   </span>\n<span style=\"color: #66d9ef; text-decoration-color: #66d9ef; background-color: #000000\">try</span><span style=\"color: #f8f8f2; text-decoration-color: #f8f8f2; background-color: #000000\">:</span><span style=\"background-color: #000000\">                                                                                                               </span>\n<span style=\"color: #7f7f7f; text-decoration-color: #7f7f7f\">/python</span>\n</pre>\n",
         "text/plain": "This example demonstrates a simple Pydantic model for a user, validating input data and providing type hints:      \n\n\u001b[2mpython\u001b[0m\n\u001b[38;2;255;70;137;40mfrom\u001b[0m\u001b[38;2;248;248;242;40m \u001b[0m\u001b[38;2;248;248;242;40mpydantic\u001b[0m\u001b[38;2;248;248;242;40m \u001b[0m\u001b[38;2;255;70;137;40mimport\u001b[0m\u001b[38;2;248;248;242;40m \u001b[0m\u001b[38;2;248;248;242;40mBaseModel\u001b[0m\u001b[38;2;248;248;242;40m,\u001b[0m\u001b[38;2;248;248;242;40m \u001b[0m\u001b[38;2;248;248;242;40mValidationError\u001b[0m\u001b[40m                                                                    \u001b[0m\n\u001b[40m                                                                                                                   \u001b[0m\n\u001b[38;2;102;217;239;40mclass\u001b[0m\u001b[38;2;248;248;242;40m \u001b[0m\u001b[38;2;166;226;46;40mUser\u001b[0m\u001b[38;2;248;248;242;40m(\u001b[0m\u001b[38;2;248;248;242;40mBaseModel\u001b[0m\u001b[38;2;248;248;242;40m)\u001b[0m\u001b[38;2;248;248;242;40m:\u001b[0m\u001b[40m                                                                                             \u001b[0m\n\u001b[38;2;248;248;242;40m    \u001b[0m\u001b[38;2;248;248;242;40mid\u001b[0m\u001b[38;2;248;248;242;40m:\u001b[0m\u001b[38;2;248;248;242;40m \u001b[0m\u001b[38;2;248;248;242;40mint\u001b[0m\u001b[40m                                                                                                        \u001b[0m\n\u001b[38;2;248;248;242;40m    \u001b[0m\u001b[38;2;248;248;242;40mname\u001b[0m\u001b[38;2;248;248;242;40m:\u001b[0m\u001b[38;2;248;248;242;40m \u001b[0m\u001b[38;2;248;248;242;40mstr\u001b[0m\u001b[40m                                                                                                      \u001b[0m\n\u001b[38;2;248;248;242;40m    \u001b[0m\u001b[38;2;248;248;242;40msignup_ts\u001b[0m\u001b[38;2;248;248;242;40m:\u001b[0m\u001b[38;2;248;248;242;40m \u001b[0m\u001b[38;2;248;248;242;40mfloat\u001b[0m\u001b[38;2;248;248;242;40m \u001b[0m\u001b[38;2;255;70;137;40m|\u001b[0m\u001b[38;2;248;248;242;40m \u001b[0m\u001b[38;2;102;217;239;40mNone\u001b[0m\u001b[38;2;248;248;242;40m \u001b[0m\u001b[38;2;255;70;137;40m=\u001b[0m\u001b[38;2;248;248;242;40m \u001b[0m\u001b[38;2;102;217;239;40mNone\u001b[0m\u001b[40m                                                                                 \u001b[0m\n\u001b[40m                                                                                                                   \u001b[0m\n\u001b[38;2;149;144;119;40m# Valid data\u001b[0m\u001b[40m                                                                                                       \u001b[0m\n\u001b[38;2;248;248;242;40mvalid_user_data\u001b[0m\u001b[38;2;248;248;242;40m \u001b[0m\u001b[38;2;255;70;137;40m=\u001b[0m\u001b[38;2;248;248;242;40m \u001b[0m\u001b[38;2;248;248;242;40m{\u001b[0m\u001b[40m                                                                                                \u001b[0m\n\u001b[38;2;248;248;242;40m    \u001b[0m\u001b[38;2;230;219;116;40m\"\u001b[0m\u001b[38;2;230;219;116;40mid\u001b[0m\u001b[38;2;230;219;116;40m\"\u001b[0m\u001b[38;2;248;248;242;40m:\u001b[0m\u001b[38;2;248;248;242;40m \u001b[0m\u001b[38;2;174;129;255;40m123\u001b[0m\u001b[38;2;248;248;242;40m,\u001b[0m\u001b[40m                                                                                                     \u001b[0m\n\u001b[38;2;248;248;242;40m    \u001b[0m\u001b[38;2;230;219;116;40m\"\u001b[0m\u001b[38;2;230;219;116;40mname\u001b[0m\u001b[38;2;230;219;116;40m\"\u001b[0m\u001b[38;2;248;248;242;40m:\u001b[0m\u001b[38;2;248;248;242;40m \u001b[0m\u001b[38;2;230;219;116;40m\"\u001b[0m\u001b[38;2;230;219;116;40mJohn Doe\u001b[0m\u001b[38;2;230;219;116;40m\"\u001b[0m\u001b[38;2;248;248;242;40m,\u001b[0m\u001b[40m                                                                                            \u001b[0m\n\u001b[38;2;248;248;242;40m    \u001b[0m\u001b[38;2;230;219;116;40m\"\u001b[0m\u001b[38;2;230;219;116;40msignup_ts\u001b[0m\u001b[38;2;230;219;116;40m\"\u001b[0m\u001b[38;2;248;248;242;40m:\u001b[0m\u001b[38;2;248;248;242;40m \u001b[0m\u001b[38;2;174;129;255;40m1678886400.0\u001b[0m\u001b[38;2;248;248;242;40m  \u001b[0m\u001b[38;2;149;144;119;40m# Example timestamp\u001b[0m\u001b[40m                                                                 \u001b[0m\n\u001b[38;2;248;248;242;40m}\u001b[0m\u001b[40m                                                                                                                  \u001b[0m\n\u001b[40m                                                                                                                   \u001b[0m\n\u001b[38;2;102;217;239;40mtry\u001b[0m\u001b[38;2;248;248;242;40m:\u001b[0m\u001b[40m                                                                                                               \u001b[0m\n\u001b[38;2;248;248;242;40m    \u001b[0m\u001b[38;2;248;248;242;40muser\u001b[0m\u001b[38;2;248;248;242;40m \u001b[0m\u001b[38;2;255;70;137;40m=\u001b[0m\u001b[38;2;248;248;242;40m \u001b[0m\u001b[38;2;248;248;242;40mUser\u001b[0m\u001b[38;2;248;248;242;40m(\u001b[0m\u001b[38;2;255;70;137;40m*\u001b[0m\u001b[38;2;255;70;137;40m*\u001b[0m\u001b[38;2;248;248;242;40mvalid_user_data\u001b[0m\u001b[38;2;248;248;242;40m)\u001b[0m\u001b[40m                                                                                 \u001b[0m\n\u001b[38;2;248;248;242;40m    \u001b[0m\u001b[38;2;248;248;242;40mprint\u001b[0m\u001b[38;2;248;248;242;40m(\u001b[0m\u001b[38;2;248;248;242;40muser\u001b[0m\u001b[38;2;248;248;242;40m)\u001b[0m\u001b[38;2;248;248;242;40m  \u001b[0m\u001b[38;2;149;144;119;40m# Output: id=123 name='John Doe' signup_ts=1678886400.0\u001b[0m\u001b[40m                                           \u001b[0m\n\u001b[38;2;248;248;242;40m    \u001b[0m\u001b[38;2;248;248;242;40mprint\u001b[0m\u001b[38;2;248;248;242;40m(\u001b[0m\u001b[38;2;248;248;242;40muser\u001b[0m\u001b[38;2;255;70;137;40m.\u001b[0m\u001b[38;2;248;248;242;40mdict\u001b[0m\u001b[38;2;248;248;242;40m(\u001b[0m\u001b[38;2;248;248;242;40m)\u001b[0m\u001b[38;2;248;248;242;40m)\u001b[0m\u001b[38;2;248;248;242;40m \u001b[0m\u001b[38;2;149;144;119;40m# Output: {'id': 123, 'name': 'John Doe', 'signup_ts': 1678886400.0}\u001b[0m\u001b[40m                        \u001b[0m\n\u001b[38;2;102;217;239;40mexcept\u001b[0m\u001b[38;2;248;248;242;40m \u001b[0m\u001b[38;2;248;248;242;40mValidationError\u001b[0m\u001b[38;2;248;248;242;40m \u001b[0m\u001b[38;2;102;217;239;40mas\u001b[0m\u001b[38;2;248;248;242;40m \u001b[0m\u001b[38;2;248;248;242;40me\u001b[0m\u001b[38;2;248;248;242;40m:\u001b[0m\u001b[40m                                                                                       \u001b[0m\n\u001b[38;2;248;248;242;40m    \u001b[0m\u001b[38;2;248;248;242;40mprint\u001b[0m\u001b[38;2;248;248;242;40m(\u001b[0m\u001b[38;2;248;248;242;40me\u001b[0m\u001b[38;2;248;248;242;40m)\u001b[0m\u001b[40m                                                                                                       \u001b[0m\n\u001b[40m                                                                                                                   \u001b[0m\n\u001b[38;2;149;144;119;40m# Invalid data - missing required field\u001b[0m\u001b[40m                                                                            \u001b[0m\n\u001b[38;2;248;248;242;40minvalid_user_data\u001b[0m\u001b[38;2;248;248;242;40m \u001b[0m\u001b[38;2;255;70;137;40m=\u001b[0m\u001b[38;2;248;248;242;40m \u001b[0m\u001b[38;2;248;248;242;40m{\u001b[0m\u001b[40m                                                                                              \u001b[0m\n\u001b[38;2;248;248;242;40m    \u001b[0m\u001b[38;2;230;219;116;40m\"\u001b[0m\u001b[38;2;230;219;116;40mname\u001b[0m\u001b[38;2;230;219;116;40m\"\u001b[0m\u001b[38;2;248;248;242;40m:\u001b[0m\u001b[38;2;248;248;242;40m \u001b[0m\u001b[38;2;230;219;116;40m\"\u001b[0m\u001b[38;2;230;219;116;40mJane Doe\u001b[0m\u001b[38;2;230;219;116;40m\"\u001b[0m\u001b[40m                                                                                             \u001b[0m\n\u001b[38;2;248;248;242;40m}\u001b[0m\u001b[40m                                                                                                                  \u001b[0m\n\u001b[40m                                                                                                                   \u001b[0m\n\u001b[38;2;102;217;239;40mtry\u001b[0m\u001b[38;2;248;248;242;40m:\u001b[0m\u001b[40m                                                                                                               \u001b[0m\n\u001b[2m/python\u001b[0m\n"
        },
        "metadata": {},
        "output_type": "display_data"
       }
      ]
     }
    }
   }
  }
 },
 "nbformat": 4,
 "nbformat_minor": 0
}
