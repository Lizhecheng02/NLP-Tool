{
 "cells": [
  {
   "cell_type": "markdown",
   "metadata": {
    "id": "QYMN38rMsnJp"
   },
   "source": [
    "# Building a Research Agent with Pydantic AI."
   ]
  },
  {
   "cell_type": "code",
   "execution_count": null,
   "metadata": {
    "colab": {
     "base_uri": "https://localhost:8080/"
    },
    "executionInfo": {
     "elapsed": 37147,
     "status": "ok",
     "timestamp": 1733456128888,
     "user": {
      "displayName": "Sam Witteveen",
      "userId": "13451642680591748340"
     },
     "user_tz": -480
    },
    "id": "kBChdle68C3E",
    "outputId": "edd08b32-c610-4939-fd27-6be908f95b38"
   },
   "outputs": [],
   "source": [
    "!pip -q install pydantic-ai\n",
    "!pip -q install nest_asyncio\n",
    "!pip -q install devtools\n",
    "!pip -q install duckduckgo-search\n",
    "!pip -q install tavily-python"
   ]
  },
  {
   "cell_type": "markdown",
   "metadata": {
    "id": "N2rUPJxt4t-r"
   },
   "source": [
    "### **Restart the notebook**\n",
    "\n",
    "You will need to restart the notebook after you've installed Pydantic AI and the other dependencies above."
   ]
  },
  {
   "cell_type": "code",
   "execution_count": null,
   "metadata": {
    "id": "icRZD-DW8JZf"
   },
   "outputs": [],
   "source": [
    "import os\n",
    "from google.colab import userdata\n",
    "from IPython.display import display, Markdown\n",
    "\n",
    "os.environ[\"OPENAI_API_KEY\"] = userdata.get('OPENAI_API_KEY')\n",
    "os.environ[\"GEMINI_API_KEY\"] = userdata.get('GOOGLE_AI_STUDIO')\n",
    "os.environ[\"GROQ_API_KEY\"] = userdata.get('GROQ_API_KEY')\n",
    "os.environ[\"TAVILY_API_KEY\"] = userdata.get('TAVILY_API_KEY') # If you dont have this use the DDGS alternative below"
   ]
  },
  {
   "cell_type": "code",
   "execution_count": null,
   "metadata": {
    "id": "ZKpEfbHCO0b5"
   },
   "outputs": [],
   "source": [
    "import nest_asyncio\n",
    "nest_asyncio.apply()"
   ]
  },
  {
   "cell_type": "markdown",
   "metadata": {
    "id": "GUsfwyaIgVZE"
   },
   "source": [
    "## Setting Up search Tavily & DDGS\n",
    "\n",
    "I've put both Tavily search and DuckDuckGo search here. You should use DuckDuckGo search if you want a free alternative, but you can get an API key with Tavily which will also give you a number of free calls. Unfortunately, nowadays with DuckDuckGo search you often hit rate limits if you're not using a proxy system.\n",
    "\n",
    "No need to use both, just using one of these is fine."
   ]
  },
  {
   "cell_type": "markdown",
   "metadata": {
    "id": "ZqoCgYrlsXCp"
   },
   "source": [
    "### DuckDuckGo Search"
   ]
  },
  {
   "cell_type": "code",
   "execution_count": null,
   "metadata": {
    "colab": {
     "base_uri": "https://localhost:8080/"
    },
    "executionInfo": {
     "elapsed": 1048,
     "status": "ok",
     "timestamp": 1733456202034,
     "user": {
      "displayName": "Sam Witteveen",
      "userId": "13451642680591748340"
     },
     "user_tz": -480
    },
    "id": "4EbXQTPQgkxe",
    "outputId": "ce47092a-db14-4c97-cac9-7e400da5c24f"
   },
   "outputs": [],
   "source": [
    "from duckduckgo_search import DDGS, AsyncDDGS\n",
    "\n",
    "results = DDGS().text(\"python programming\", max_results=5)\n",
    "print(results)"
   ]
  },
  {
   "cell_type": "code",
   "execution_count": null,
   "metadata": {
    "colab": {
     "base_uri": "https://localhost:8080/"
    },
    "executionInfo": {
     "elapsed": 1241,
     "status": "ok",
     "timestamp": 1733456439408,
     "user": {
      "displayName": "Sam Witteveen",
      "userId": "13451642680591748340"
     },
     "user_tz": -480
    },
    "id": "NnKZqQvsoB0j",
    "outputId": "eab369cb-e3c2-4673-c218-679f31c098ed"
   },
   "outputs": [],
   "source": [
    "results = AsyncDDGS().text(\"python programming\", max_results=5)\n",
    "print(results)"
   ]
  },
  {
   "cell_type": "code",
   "execution_count": null,
   "metadata": {
    "colab": {
     "base_uri": "https://localhost:8080/"
    },
    "executionInfo": {
     "elapsed": 6979,
     "status": "ok",
     "timestamp": 1733456451135,
     "user": {
      "displayName": "Sam Witteveen",
      "userId": "13451642680591748340"
     },
     "user_tz": -480
    },
    "id": "bVuVSlL-tORa",
    "outputId": "60a6576d-1f09-45f7-e813-c1e7182533be"
   },
   "outputs": [],
   "source": [
    "results = await AsyncDDGS().achat('describe the characteristic habits and behaviors of humans as a species')\n",
    "print(results)"
   ]
  },
  {
   "cell_type": "markdown",
   "metadata": {
    "id": "4CEVVhRnscdr"
   },
   "source": [
    "### Tavily Search"
   ]
  },
  {
   "cell_type": "code",
   "execution_count": null,
   "metadata": {
    "colab": {
     "base_uri": "https://localhost:8080/"
    },
    "executionInfo": {
     "elapsed": 3501,
     "status": "ok",
     "timestamp": 1733456459684,
     "user": {
      "displayName": "Sam Witteveen",
      "userId": "13451642680591748340"
     },
     "user_tz": -480
    },
    "id": "v3r_wxilsepA",
    "outputId": "6593d849-0589-4349-da3a-a92a91c963ad"
   },
   "outputs": [],
   "source": [
    "from tavily import TavilyClient, AsyncTavilyClient\n",
    "\n",
    "# Setup the Tavily Client\n",
    "tavily_client = AsyncTavilyClient(api_key=os.environ[\"TAVILY_API_KEY\"])\n",
    "\n",
    "# Simple Search\n",
    "response = await tavily_client.search(\"Who is Leo Messi?\", max_results=3)\n",
    "\n",
    "print(response['results'])"
   ]
  },
  {
   "cell_type": "code",
   "execution_count": null,
   "metadata": {
    "colab": {
     "base_uri": "https://localhost:8080/"
    },
    "executionInfo": {
     "elapsed": 357,
     "status": "ok",
     "timestamp": 1733456461428,
     "user": {
      "displayName": "Sam Witteveen",
      "userId": "13451642680591748340"
     },
     "user_tz": -480
    },
    "id": "KRc-tLALv6CP",
    "outputId": "2493dbfd-ac2f-437b-d05f-e51455fb354d"
   },
   "outputs": [],
   "source": [
    "# Responses\n",
    "for result in response['results']:\n",
    "    print(result['title'])\n",
    "    print(result['content'])\n",
    "    print('\\n')"
   ]
  },
  {
   "cell_type": "code",
   "execution_count": null,
   "metadata": {
    "colab": {
     "base_uri": "https://localhost:8080/"
    },
    "executionInfo": {
     "elapsed": 3305,
     "status": "ok",
     "timestamp": 1733456471187,
     "user": {
      "displayName": "Sam Witteveen",
      "userId": "13451642680591748340"
     },
     "user_tz": -480
    },
    "id": "q2WhsgwstOFq",
    "outputId": "47c0df72-1191-409b-d0c0-5a0300a1b377"
   },
   "outputs": [],
   "source": [
    "# RAG Context search\n",
    "\n",
    "# Context Search\n",
    "context = await tavily_client.get_search_context(query=\"Who is Leo Messi?\", max_results=3)\n",
    "\n",
    "print(context)"
   ]
  },
  {
   "cell_type": "markdown",
   "metadata": {
    "id": "Gkm255ZBsu9e"
   },
   "source": [
    "## Setting up the Agent & Tools"
   ]
  },
  {
   "cell_type": "code",
   "execution_count": null,
   "metadata": {
    "id": "p-vqnUv4lfM5"
   },
   "outputs": [],
   "source": [
    "from __future__ import annotations as _annotations\n",
    "\n",
    "import asyncio\n",
    "import os\n",
    "from dataclasses import dataclass\n",
    "from typing import Any\n",
    "\n",
    "from devtools import debug\n",
    "from httpx import AsyncClient\n",
    "import datetime\n",
    "\n",
    "from pydantic_ai import Agent, ModelRetry, RunContext\n",
    "from pydantic import BaseModel, Field"
   ]
  },
  {
   "cell_type": "code",
   "execution_count": null,
   "metadata": {
    "id": "q0Jxftii2JSg"
   },
   "outputs": [],
   "source": [
    "@dataclass\n",
    "class SearchDataclass:\n",
    "    max_results: int\n",
    "    todays_date: str\n",
    "\n",
    "@dataclass\n",
    "class ResearchDependencies:\n",
    "    todays_date: str\n",
    "\n",
    "class ResearchResult(BaseModel):\n",
    "    research_title: str = Field(description='This is a top level Markdown heading that covers the topic of the query and answer prefix it with #')\n",
    "    research_main: str = Field(description='This is a main section that provides answers for the query and research')\n",
    "    research_bullets: str = Field(description='This is a set of bulletpoints that summarize the answers for query')"
   ]
  },
  {
   "cell_type": "code",
   "execution_count": null,
   "metadata": {
    "id": "F87pJ01UnB8j"
   },
   "outputs": [],
   "source": [
    "## Make the agent\n",
    "search_agent = Agent('openai:gpt-4o',\n",
    "                     deps_type=ResearchDependencies,\n",
    "                     result_type=ResearchResult,\n",
    "                     system_prompt='Your a helpful research assistant, you are an expert in research '\n",
    "                     'If you are given a question you write strong keywords to do 3-5 searches in total '\n",
    "                     '(each with a query_number) and then combine the results')\n"
   ]
  },
  {
   "cell_type": "code",
   "execution_count": null,
   "metadata": {
    "id": "OuX8DCKguKVG"
   },
   "outputs": [],
   "source": [
    "@search_agent.tool #Tavily\n",
    "async def get_search(search_data:RunContext[SearchDataclass], query: str, query_number: int) -> dict[str, Any]:\n",
    "    \"\"\"Get the search for a keyword query.\n",
    "\n",
    "    Args:\n",
    "        query: keywords to search.\n",
    "    \"\"\"\n",
    "    print(f\"Search query {query_number}: {query}\")\n",
    "    max_results = search_data.deps.max_results\n",
    "    results = await tavily_client.get_search_context(query=query, max_results=max_results)\n",
    "\n",
    "    return results"
   ]
  },
  {
   "cell_type": "markdown",
   "metadata": {
    "id": "zStn8UCn0udh"
   },
   "source": [
    "#### Uncomment this for the DDGS version"
   ]
  },
  {
   "cell_type": "code",
   "execution_count": null,
   "metadata": {
    "id": "lNCOYz7HtRJ7"
   },
   "outputs": [],
   "source": [
    "# @search_agent.tool # DDGS\n",
    "# async def get_search(search_data:RunContext[SearchDataclass],query: str) -> dict[str, Any]:\n",
    "#     \"\"\"Get the search for a keyword query.\n",
    "\n",
    "#     Args:\n",
    "#         query: keywords to search.\n",
    "#     \"\"\"\n",
    "#     print(f\"Search query: {query}\")\n",
    "#     max_results = search_data.deps.max_results\n",
    "#     results = await AsyncDDGS(proxy=None).atext(query, max_results=max_results)\n",
    "\n",
    "#     return results"
   ]
  },
  {
   "cell_type": "code",
   "execution_count": null,
   "metadata": {
    "id": "YUMBK_Mc_2hz"
   },
   "outputs": [],
   "source": [
    "## set up the dependencies\n",
    "\n",
    "# Get the current date\n",
    "current_date = datetime.date.today()\n",
    "\n",
    "# Convert the date to a string\n",
    "date_string = current_date.strftime(\"%Y-%m-%d\")\n",
    "\n",
    "deps = SearchDataclass(max_results=3, todays_date=date_string)"
   ]
  },
  {
   "cell_type": "code",
   "execution_count": null,
   "metadata": {
    "colab": {
     "base_uri": "https://localhost:8080/"
    },
    "executionInfo": {
     "elapsed": 13120,
     "status": "ok",
     "timestamp": 1733457927782,
     "user": {
      "displayName": "Sam Witteveen",
      "userId": "13451642680591748340"
     },
     "user_tz": -480
    },
    "id": "R984pSOJ4xQe",
    "outputId": "6bff9ae4-048b-425b-d6c4-8ca7d23d73ad"
   },
   "outputs": [],
   "source": [
    "result = await search_agent.run('can you give me a very detailed bio of Sam Altman?', deps=deps)"
   ]
  },
  {
   "cell_type": "code",
   "execution_count": null,
   "metadata": {
    "colab": {
     "base_uri": "https://localhost:8080/"
    },
    "executionInfo": {
     "elapsed": 321,
     "status": "ok",
     "timestamp": 1733457979283,
     "user": {
      "displayName": "Sam Witteveen",
      "userId": "13451642680591748340"
     },
     "user_tz": -480
    },
    "id": "TLnmlWyV72Cf",
    "outputId": "cc69f2af-8726-4536-b2d6-a9eb123b4cd5"
   },
   "outputs": [],
   "source": [
    "print(result.data)"
   ]
  },
  {
   "cell_type": "code",
   "execution_count": null,
   "metadata": {
    "colab": {
     "base_uri": "https://localhost:8080/"
    },
    "executionInfo": {
     "elapsed": 315,
     "status": "ok",
     "timestamp": 1733458005175,
     "user": {
      "displayName": "Sam Witteveen",
      "userId": "13451642680591748340"
     },
     "user_tz": -480
    },
    "id": "m8Jf8MX177a4",
    "outputId": "394b323c-d29f-4f74-b0f5-6cb0d283de48"
   },
   "outputs": [],
   "source": [
    "result.data.research_title = '#' + result.data.research_title\n",
    "print(result.data.research_title)"
   ]
  },
  {
   "cell_type": "code",
   "execution_count": null,
   "metadata": {
    "colab": {
     "base_uri": "https://localhost:8080/"
    },
    "executionInfo": {
     "elapsed": 292,
     "status": "ok",
     "timestamp": 1733458043217,
     "user": {
      "displayName": "Sam Witteveen",
      "userId": "13451642680591748340"
     },
     "user_tz": -480
    },
    "id": "1ElYwhOz8FRX",
    "outputId": "49842c9c-5aa3-4627-b6af-b4677e720a3d"
   },
   "outputs": [],
   "source": [
    "print(result.data.research_main)"
   ]
  },
  {
   "cell_type": "code",
   "execution_count": null,
   "metadata": {
    "colab": {
     "base_uri": "https://localhost:8080/"
    },
    "executionInfo": {
     "elapsed": 272,
     "status": "ok",
     "timestamp": 1733458047917,
     "user": {
      "displayName": "Sam Witteveen",
      "userId": "13451642680591748340"
     },
     "user_tz": -480
    },
    "id": "rIeHqBPV8HGo",
    "outputId": "996deb48-8d0d-49c1-8507-fce187f7482a"
   },
   "outputs": [],
   "source": [
    "print(result.data.research_bullets)"
   ]
  },
  {
   "cell_type": "code",
   "execution_count": null,
   "metadata": {
    "colab": {
     "base_uri": "https://localhost:8080/",
     "height": 419
    },
    "executionInfo": {
     "elapsed": 285,
     "status": "ok",
     "timestamp": 1733458064709,
     "user": {
      "displayName": "Sam Witteveen",
      "userId": "13451642680591748340"
     },
     "user_tz": -480
    },
    "id": "csRIddVBHMZG",
    "outputId": "39a3c9f1-69f9-433e-f9a2-9ffee4524dd5"
   },
   "outputs": [],
   "source": [
    "combined_markdown = \"\\n\\n\".join([result.data.research_title, result.data.research_main, result.data.research_bullets])\n",
    "\n",
    "Markdown(combined_markdown)"
   ]
  },
  {
   "cell_type": "code",
   "execution_count": null,
   "metadata": {
    "id": "1sv7GpvzqVYM"
   },
   "outputs": [],
   "source": [
    "debug(result)"
   ]
  },
  {
   "cell_type": "code",
   "execution_count": null,
   "metadata": {
    "colab": {
     "base_uri": "https://localhost:8080/"
    },
    "executionInfo": {
     "elapsed": 9179,
     "status": "ok",
     "timestamp": 1733453830356,
     "user": {
      "displayName": "Sam Witteveen",
      "userId": "13451642680591748340"
     },
     "user_tz": -480
    },
    "id": "X9mgeULM5c_P",
    "outputId": "ca3c7fbd-075f-4f2f-bfcf-34dd468a7abf"
   },
   "outputs": [],
   "source": [
    "result = await search_agent.run('What is the latest AI News?', deps=deps)"
   ]
  },
  {
   "cell_type": "code",
   "execution_count": null,
   "metadata": {
    "colab": {
     "base_uri": "https://localhost:8080/"
    },
    "executionInfo": {
     "elapsed": 254,
     "status": "ok",
     "timestamp": 1733453835955,
     "user": {
      "displayName": "Sam Witteveen",
      "userId": "13451642680591748340"
     },
     "user_tz": -480
    },
    "id": "heajKGCi5c_Q",
    "outputId": "325b395f-c1af-4171-df50-4f115a0c0c3b"
   },
   "outputs": [],
   "source": [
    "print(result.data)"
   ]
  },
  {
   "cell_type": "markdown",
   "metadata": {
    "id": "AH9Xno_gA0I-"
   },
   "source": [
    "## Add in the date"
   ]
  },
  {
   "cell_type": "code",
   "execution_count": null,
   "metadata": {
    "id": "Y53dieyuk24n"
   },
   "outputs": [],
   "source": [
    "@search_agent.system_prompt\n",
    "async def add_current_date(ctx: RunContext[ResearchDependencies]) -> str:\n",
    "    todays_date = ctx.deps.todays_date\n",
    "    system_prompt=f'Your a helpful research assistant, you are an expert in research \\\n",
    "                    If you are given a question you write strong keywords to do 3-5 searches in total \\\n",
    "                    (each with a query_number) and then combine the results \\\n",
    "                    if you need todays date it is {todays_date}'\n",
    "    return system_prompt"
   ]
  },
  {
   "cell_type": "code",
   "execution_count": null,
   "metadata": {
    "colab": {
     "base_uri": "https://localhost:8080/"
    },
    "executionInfo": {
     "elapsed": 8377,
     "status": "ok",
     "timestamp": 1733455787076,
     "user": {
      "displayName": "Sam Witteveen",
      "userId": "13451642680591748340"
     },
     "user_tz": -480
    },
    "id": "RD3z_a9WA2CI",
    "outputId": "4ac6ce2e-cba6-4fca-cec4-f72c71e186d0"
   },
   "outputs": [],
   "source": [
    "result = await search_agent.run('What are the major AI News announcements in the last few days?', deps=deps)"
   ]
  },
  {
   "cell_type": "code",
   "execution_count": null,
   "metadata": {
    "colab": {
     "base_uri": "https://localhost:8080/"
    },
    "executionInfo": {
     "elapsed": 327,
     "status": "ok",
     "timestamp": 1733455858230,
     "user": {
      "displayName": "Sam Witteveen",
      "userId": "13451642680591748340"
     },
     "user_tz": -480
    },
    "id": "WUgREI2MBR5p",
    "outputId": "d989e740-ea81-4864-f3d9-a0b83ac9672d"
   },
   "outputs": [],
   "source": [
    "print(result.data)"
   ]
  },
  {
   "cell_type": "code",
   "execution_count": null,
   "metadata": {
    "colab": {
     "base_uri": "https://localhost:8080/"
    },
    "executionInfo": {
     "elapsed": 2,
     "status": "ok",
     "timestamp": 1733455859130,
     "user": {
      "displayName": "Sam Witteveen",
      "userId": "13451642680591748340"
     },
     "user_tz": -480
    },
    "id": "-Va0j58lBR5p",
    "outputId": "27538864-51cd-40da-ec41-eab674980ad3"
   },
   "outputs": [],
   "source": [
    "result.data.research_title = '#' + result.data.research_title\n",
    "print(result.data.research_title)"
   ]
  },
  {
   "cell_type": "code",
   "execution_count": null,
   "metadata": {
    "colab": {
     "base_uri": "https://localhost:8080/"
    },
    "executionInfo": {
     "elapsed": 237,
     "status": "ok",
     "timestamp": 1733455861094,
     "user": {
      "displayName": "Sam Witteveen",
      "userId": "13451642680591748340"
     },
     "user_tz": -480
    },
    "id": "kaCUdf0lBR5p",
    "outputId": "69f06ba6-e081-48d7-a3cb-7cbd3ddb5b75"
   },
   "outputs": [],
   "source": [
    "print(result.data.research_main)"
   ]
  },
  {
   "cell_type": "code",
   "execution_count": null,
   "metadata": {
    "colab": {
     "base_uri": "https://localhost:8080/"
    },
    "executionInfo": {
     "elapsed": 2,
     "status": "ok",
     "timestamp": 1733455862619,
     "user": {
      "displayName": "Sam Witteveen",
      "userId": "13451642680591748340"
     },
     "user_tz": -480
    },
    "id": "JD4P5IZgBR5p",
    "outputId": "72884d09-be6b-4519-cabb-d0b714f888d4"
   },
   "outputs": [],
   "source": [
    "print(result.data.research_bullets)"
   ]
  },
  {
   "cell_type": "code",
   "execution_count": null,
   "metadata": {
    "colab": {
     "base_uri": "https://localhost:8080/",
     "height": 262
    },
    "executionInfo": {
     "elapsed": 337,
     "status": "ok",
     "timestamp": 1733455864771,
     "user": {
      "displayName": "Sam Witteveen",
      "userId": "13451642680591748340"
     },
     "user_tz": -480
    },
    "id": "DzKY8FEiBR5q",
    "outputId": "9d588252-2e12-45cd-fc72-82630898cb03"
   },
   "outputs": [],
   "source": [
    "combined_markdown = \"\\n\\n\".join([result.data.research_title, result.data.research_main, result.data.research_bullets])\n",
    "\n",
    "Markdown(combined_markdown)"
   ]
  },
  {
   "cell_type": "code",
   "execution_count": null,
   "metadata": {
    "id": "I8mPp2E_BR5q"
   },
   "outputs": [],
   "source": [
    "debug(result)"
   ]
  }
 ],
 "metadata": {
  "colab": {
   "provenance": [
    {
     "file_id": "1yYnmTcGQ5OJdpFACalxC_YOemOuvfJn_",
     "timestamp": 1733697484813
    },
    {
     "file_id": "19CPhtzMQvdO0e5m_ugsXawUlfeggUlN_",
     "timestamp": 1733449135482
    }
   ]
  },
  "kernelspec": {
   "display_name": "Python 3",
   "name": "python3"
  },
  "language_info": {
   "name": "python"
  }
 },
 "nbformat": 4,
 "nbformat_minor": 0
}
